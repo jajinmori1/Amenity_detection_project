{
  "nbformat": 4,
  "nbformat_minor": 0,
  "metadata": {
    "colab": {
      "name": "centernet_amenity_detection_training.ipynb",
      "provenance": [],
      "collapsed_sections": [],
      "include_colab_link": true
    },
    "kernelspec": {
      "name": "python3",
      "display_name": "Python 3"
    },
    "accelerator": "GPU"
  },
  "cells": [
    {
      "cell_type": "markdown",
      "metadata": {
        "id": "view-in-github",
        "colab_type": "text"
      },
      "source": [
        "<a href=\"https://colab.research.google.com/github/jajinmori1/Amenity_detection_project/blob/main/centernet_amenity_detection_training.ipynb\" target=\"_parent\"><img src=\"https://colab.research.google.com/assets/colab-badge.svg\" alt=\"Open In Colab\"/></a>"
      ]
    },
    {
      "cell_type": "code",
      "metadata": {
        "colab": {
          "base_uri": "https://localhost:8080/"
        },
        "id": "W3FeS-LJ_ths",
        "outputId": "8c302ade-9056-4560-bf4f-6b63062fa483"
      },
      "source": [
        "!git clone https://github.com/tensorflow/models"
      ],
      "execution_count": null,
      "outputs": [
        {
          "output_type": "stream",
          "text": [
            "Cloning into 'models'...\n",
            "remote: Enumerating objects: 58144, done.\u001b[K\n",
            "remote: Counting objects: 100% (561/561), done.\u001b[K\n",
            "remote: Compressing objects: 100% (256/256), done.\u001b[K\n",
            "remote: Total 58144 (delta 359), reused 481 (delta 305), pack-reused 57583\u001b[K\n",
            "Receiving objects: 100% (58144/58144), 573.23 MiB | 38.27 MiB/s, done.\n",
            "Resolving deltas: 100% (40306/40306), done.\n"
          ],
          "name": "stdout"
        }
      ]
    },
    {
      "cell_type": "code",
      "metadata": {
        "colab": {
          "base_uri": "https://localhost:8080/"
        },
        "id": "hXuu1OajFYcZ",
        "outputId": "6f02af1a-1f50-4b29-8c77-b7eb23d48765"
      },
      "source": [
        "%cd models"
      ],
      "execution_count": null,
      "outputs": [
        {
          "output_type": "stream",
          "text": [
            "/content/models\n"
          ],
          "name": "stdout"
        }
      ]
    },
    {
      "cell_type": "code",
      "metadata": {
        "colab": {
          "base_uri": "https://localhost:8080/"
        },
        "id": "3tR123GtFcqy",
        "outputId": "e614b523-6dd7-457c-f5e2-a7bcbf9526b4"
      },
      "source": [
        "!git reset --hard d7ce106b8ea449cc629569ca43a95e55a18807fa"
      ],
      "execution_count": null,
      "outputs": [
        {
          "output_type": "stream",
          "text": [
            "HEAD is now at d7ce106b Minor comment updates in Transformer.\n"
          ],
          "name": "stdout"
        }
      ]
    },
    {
      "cell_type": "code",
      "metadata": {
        "colab": {
          "base_uri": "https://localhost:8080/"
        },
        "id": "IXuhOncpFf90",
        "outputId": "5d2f4a09-c588-45d9-fd3e-29d35a4d1e75"
      },
      "source": [
        "%cd .."
      ],
      "execution_count": null,
      "outputs": [
        {
          "output_type": "stream",
          "text": [
            "/content\n"
          ],
          "name": "stdout"
        }
      ]
    },
    {
      "cell_type": "code",
      "metadata": {
        "colab": {
          "base_uri": "https://localhost:8080/"
        },
        "id": "Hm_mdOYe_zzy",
        "outputId": "38eeb8a8-0aa0-449a-d59a-d55f835be63e"
      },
      "source": [
        "%cd models/research"
      ],
      "execution_count": null,
      "outputs": [
        {
          "output_type": "stream",
          "text": [
            "/content/models/research\n"
          ],
          "name": "stdout"
        }
      ]
    },
    {
      "cell_type": "code",
      "metadata": {
        "colab": {
          "base_uri": "https://localhost:8080/"
        },
        "id": "AG_cdU_yAJ4N",
        "outputId": "c70ce924-82c3-429e-8a79-70e157987ffb"
      },
      "source": [
        "!pwd"
      ],
      "execution_count": null,
      "outputs": [
        {
          "output_type": "stream",
          "text": [
            "/content/models/research\n"
          ],
          "name": "stdout"
        }
      ]
    },
    {
      "cell_type": "code",
      "metadata": {
        "id": "U2sF0hYH__0j"
      },
      "source": [
        "# Compile protos.\n",
        "!protoc object_detection/protos/*.proto --python_out=."
      ],
      "execution_count": null,
      "outputs": []
    },
    {
      "cell_type": "code",
      "metadata": {
        "id": "9oYp40AtADvc"
      },
      "source": [
        "# Install TensorFlow Object Detection API.\n",
        "!cp object_detection/packages/tf2/setup.py ."
      ],
      "execution_count": null,
      "outputs": []
    },
    {
      "cell_type": "code",
      "metadata": {
        "colab": {
          "base_uri": "https://localhost:8080/"
        },
        "id": "_x5zy3tYASFM",
        "outputId": "4cdd1180-cb7a-4e37-b79e-0cce6fd28318"
      },
      "source": [
        "!python -m pip install --upgrade pip"
      ],
      "execution_count": null,
      "outputs": [
        {
          "output_type": "stream",
          "text": [
            "Collecting pip\n",
            "\u001b[?25l  Downloading https://files.pythonhosted.org/packages/47/ca/f0d790b6e18b3a6f3bd5e80c2ee4edbb5807286c21cdd0862ca933f751dd/pip-21.1.3-py3-none-any.whl (1.5MB)\n",
            "\r\u001b[K     |▏                               | 10kB 24.3MB/s eta 0:00:01\r\u001b[K     |▍                               | 20kB 31.6MB/s eta 0:00:01\r\u001b[K     |▋                               | 30kB 36.8MB/s eta 0:00:01\r\u001b[K     |▉                               | 40kB 29.2MB/s eta 0:00:01\r\u001b[K     |█                               | 51kB 29.7MB/s eta 0:00:01\r\u001b[K     |█▎                              | 61kB 32.2MB/s eta 0:00:01\r\u001b[K     |█▌                              | 71kB 33.7MB/s eta 0:00:01\r\u001b[K     |█▊                              | 81kB 29.2MB/s eta 0:00:01\r\u001b[K     |██                              | 92kB 29.4MB/s eta 0:00:01\r\u001b[K     |██▏                             | 102kB 30.9MB/s eta 0:00:01\r\u001b[K     |██▎                             | 112kB 30.9MB/s eta 0:00:01\r\u001b[K     |██▌                             | 122kB 30.9MB/s eta 0:00:01\r\u001b[K     |██▊                             | 133kB 30.9MB/s eta 0:00:01\r\u001b[K     |███                             | 143kB 30.9MB/s eta 0:00:01\r\u001b[K     |███▏                            | 153kB 30.9MB/s eta 0:00:01\r\u001b[K     |███▍                            | 163kB 30.9MB/s eta 0:00:01\r\u001b[K     |███▋                            | 174kB 30.9MB/s eta 0:00:01\r\u001b[K     |███▉                            | 184kB 30.9MB/s eta 0:00:01\r\u001b[K     |████                            | 194kB 30.9MB/s eta 0:00:01\r\u001b[K     |████▎                           | 204kB 30.9MB/s eta 0:00:01\r\u001b[K     |████▌                           | 215kB 30.9MB/s eta 0:00:01\r\u001b[K     |████▋                           | 225kB 30.9MB/s eta 0:00:01\r\u001b[K     |████▉                           | 235kB 30.9MB/s eta 0:00:01\r\u001b[K     |█████                           | 245kB 30.9MB/s eta 0:00:01\r\u001b[K     |█████▎                          | 256kB 30.9MB/s eta 0:00:01\r\u001b[K     |█████▌                          | 266kB 30.9MB/s eta 0:00:01\r\u001b[K     |█████▊                          | 276kB 30.9MB/s eta 0:00:01\r\u001b[K     |██████                          | 286kB 30.9MB/s eta 0:00:01\r\u001b[K     |██████▏                         | 296kB 30.9MB/s eta 0:00:01\r\u001b[K     |██████▍                         | 307kB 30.9MB/s eta 0:00:01\r\u001b[K     |██████▋                         | 317kB 30.9MB/s eta 0:00:01\r\u001b[K     |██████▊                         | 327kB 30.9MB/s eta 0:00:01\r\u001b[K     |███████                         | 337kB 30.9MB/s eta 0:00:01\r\u001b[K     |███████▏                        | 348kB 30.9MB/s eta 0:00:01\r\u001b[K     |███████▍                        | 358kB 30.9MB/s eta 0:00:01\r\u001b[K     |███████▋                        | 368kB 30.9MB/s eta 0:00:01\r\u001b[K     |███████▉                        | 378kB 30.9MB/s eta 0:00:01\r\u001b[K     |████████                        | 389kB 30.9MB/s eta 0:00:01\r\u001b[K     |████████▎                       | 399kB 30.9MB/s eta 0:00:01\r\u001b[K     |████████▌                       | 409kB 30.9MB/s eta 0:00:01\r\u001b[K     |████████▊                       | 419kB 30.9MB/s eta 0:00:01\r\u001b[K     |█████████                       | 430kB 30.9MB/s eta 0:00:01\r\u001b[K     |█████████                       | 440kB 30.9MB/s eta 0:00:01\r\u001b[K     |█████████▎                      | 450kB 30.9MB/s eta 0:00:01\r\u001b[K     |█████████▌                      | 460kB 30.9MB/s eta 0:00:01\r\u001b[K     |█████████▊                      | 471kB 30.9MB/s eta 0:00:01\r\u001b[K     |██████████                      | 481kB 30.9MB/s eta 0:00:01\r\u001b[K     |██████████▏                     | 491kB 30.9MB/s eta 0:00:01\r\u001b[K     |██████████▍                     | 501kB 30.9MB/s eta 0:00:01\r\u001b[K     |██████████▋                     | 512kB 30.9MB/s eta 0:00:01\r\u001b[K     |██████████▉                     | 522kB 30.9MB/s eta 0:00:01\r\u001b[K     |███████████                     | 532kB 30.9MB/s eta 0:00:01\r\u001b[K     |███████████▏                    | 542kB 30.9MB/s eta 0:00:01\r\u001b[K     |███████████▍                    | 552kB 30.9MB/s eta 0:00:01\r\u001b[K     |███████████▋                    | 563kB 30.9MB/s eta 0:00:01\r\u001b[K     |███████████▉                    | 573kB 30.9MB/s eta 0:00:01\r\u001b[K     |████████████                    | 583kB 30.9MB/s eta 0:00:01\r\u001b[K     |████████████▎                   | 593kB 30.9MB/s eta 0:00:01\r\u001b[K     |████████████▌                   | 604kB 30.9MB/s eta 0:00:01\r\u001b[K     |████████████▊                   | 614kB 30.9MB/s eta 0:00:01\r\u001b[K     |█████████████                   | 624kB 30.9MB/s eta 0:00:01\r\u001b[K     |█████████████▏                  | 634kB 30.9MB/s eta 0:00:01\r\u001b[K     |█████████████▍                  | 645kB 30.9MB/s eta 0:00:01\r\u001b[K     |█████████████▌                  | 655kB 30.9MB/s eta 0:00:01\r\u001b[K     |█████████████▊                  | 665kB 30.9MB/s eta 0:00:01\r\u001b[K     |██████████████                  | 675kB 30.9MB/s eta 0:00:01\r\u001b[K     |██████████████▏                 | 686kB 30.9MB/s eta 0:00:01\r\u001b[K     |██████████████▍                 | 696kB 30.9MB/s eta 0:00:01\r\u001b[K     |██████████████▋                 | 706kB 30.9MB/s eta 0:00:01\r\u001b[K     |██████████████▉                 | 716kB 30.9MB/s eta 0:00:01\r\u001b[K     |███████████████                 | 727kB 30.9MB/s eta 0:00:01\r\u001b[K     |███████████████▎                | 737kB 30.9MB/s eta 0:00:01\r\u001b[K     |███████████████▌                | 747kB 30.9MB/s eta 0:00:01\r\u001b[K     |███████████████▋                | 757kB 30.9MB/s eta 0:00:01\r\u001b[K     |███████████████▉                | 768kB 30.9MB/s eta 0:00:01\r\u001b[K     |████████████████                | 778kB 30.9MB/s eta 0:00:01\r\u001b[K     |████████████████▎               | 788kB 30.9MB/s eta 0:00:01\r\u001b[K     |████████████████▌               | 798kB 30.9MB/s eta 0:00:01\r\u001b[K     |████████████████▊               | 808kB 30.9MB/s eta 0:00:01\r\u001b[K     |█████████████████               | 819kB 30.9MB/s eta 0:00:01\r\u001b[K     |█████████████████▏              | 829kB 30.9MB/s eta 0:00:01\r\u001b[K     |█████████████████▍              | 839kB 30.9MB/s eta 0:00:01\r\u001b[K     |█████████████████▋              | 849kB 30.9MB/s eta 0:00:01\r\u001b[K     |█████████████████▉              | 860kB 30.9MB/s eta 0:00:01\r\u001b[K     |██████████████████              | 870kB 30.9MB/s eta 0:00:01\r\u001b[K     |██████████████████▏             | 880kB 30.9MB/s eta 0:00:01\r\u001b[K     |██████████████████▍             | 890kB 30.9MB/s eta 0:00:01\r\u001b[K     |██████████████████▋             | 901kB 30.9MB/s eta 0:00:01\r\u001b[K     |██████████████████▉             | 911kB 30.9MB/s eta 0:00:01\r\u001b[K     |███████████████████             | 921kB 30.9MB/s eta 0:00:01\r\u001b[K     |███████████████████▎            | 931kB 30.9MB/s eta 0:00:01\r\u001b[K     |███████████████████▌            | 942kB 30.9MB/s eta 0:00:01\r\u001b[K     |███████████████████▊            | 952kB 30.9MB/s eta 0:00:01\r\u001b[K     |████████████████████            | 962kB 30.9MB/s eta 0:00:01\r\u001b[K     |████████████████████            | 972kB 30.9MB/s eta 0:00:01\r\u001b[K     |████████████████████▎           | 983kB 30.9MB/s eta 0:00:01\r\u001b[K     |████████████████████▌           | 993kB 30.9MB/s eta 0:00:01\r\u001b[K     |████████████████████▊           | 1.0MB 30.9MB/s eta 0:00:01\r\u001b[K     |█████████████████████           | 1.0MB 30.9MB/s eta 0:00:01\r\u001b[K     |█████████████████████▏          | 1.0MB 30.9MB/s eta 0:00:01\r\u001b[K     |█████████████████████▍          | 1.0MB 30.9MB/s eta 0:00:01\r\u001b[K     |█████████████████████▋          | 1.0MB 30.9MB/s eta 0:00:01\r\u001b[K     |█████████████████████▉          | 1.1MB 30.9MB/s eta 0:00:01\r\u001b[K     |██████████████████████          | 1.1MB 30.9MB/s eta 0:00:01\r\u001b[K     |██████████████████████▎         | 1.1MB 30.9MB/s eta 0:00:01\r\u001b[K     |██████████████████████▍         | 1.1MB 30.9MB/s eta 0:00:01\r\u001b[K     |██████████████████████▋         | 1.1MB 30.9MB/s eta 0:00:01\r\u001b[K     |██████████████████████▉         | 1.1MB 30.9MB/s eta 0:00:01\r\u001b[K     |███████████████████████         | 1.1MB 30.9MB/s eta 0:00:01\r\u001b[K     |███████████████████████▎        | 1.1MB 30.9MB/s eta 0:00:01\r\u001b[K     |███████████████████████▌        | 1.1MB 30.9MB/s eta 0:00:01\r\u001b[K     |███████████████████████▊        | 1.1MB 30.9MB/s eta 0:00:01\r\u001b[K     |████████████████████████        | 1.2MB 30.9MB/s eta 0:00:01\r\u001b[K     |████████████████████████▏       | 1.2MB 30.9MB/s eta 0:00:01\r\u001b[K     |████████████████████████▍       | 1.2MB 30.9MB/s eta 0:00:01\r\u001b[K     |████████████████████████▌       | 1.2MB 30.9MB/s eta 0:00:01\r\u001b[K     |████████████████████████▊       | 1.2MB 30.9MB/s eta 0:00:01\r\u001b[K     |█████████████████████████       | 1.2MB 30.9MB/s eta 0:00:01\r\u001b[K     |█████████████████████████▏      | 1.2MB 30.9MB/s eta 0:00:01\r\u001b[K     |█████████████████████████▍      | 1.2MB 30.9MB/s eta 0:00:01\r\u001b[K     |█████████████████████████▋      | 1.2MB 30.9MB/s eta 0:00:01\r\u001b[K     |█████████████████████████▉      | 1.2MB 30.9MB/s eta 0:00:01\r\u001b[K     |██████████████████████████      | 1.3MB 30.9MB/s eta 0:00:01\r\u001b[K     |██████████████████████████▎     | 1.3MB 30.9MB/s eta 0:00:01\r\u001b[K     |██████████████████████████▌     | 1.3MB 30.9MB/s eta 0:00:01\r\u001b[K     |██████████████████████████▊     | 1.3MB 30.9MB/s eta 0:00:01\r\u001b[K     |██████████████████████████▉     | 1.3MB 30.9MB/s eta 0:00:01\r\u001b[K     |███████████████████████████     | 1.3MB 30.9MB/s eta 0:00:01\r\u001b[K     |███████████████████████████▎    | 1.3MB 30.9MB/s eta 0:00:01\r\u001b[K     |███████████████████████████▌    | 1.3MB 30.9MB/s eta 0:00:01\r\u001b[K     |███████████████████████████▊    | 1.3MB 30.9MB/s eta 0:00:01\r\u001b[K     |████████████████████████████    | 1.4MB 30.9MB/s eta 0:00:01\r\u001b[K     |████████████████████████████▏   | 1.4MB 30.9MB/s eta 0:00:01\r\u001b[K     |████████████████████████████▍   | 1.4MB 30.9MB/s eta 0:00:01\r\u001b[K     |████████████████████████████▋   | 1.4MB 30.9MB/s eta 0:00:01\r\u001b[K     |████████████████████████████▉   | 1.4MB 30.9MB/s eta 0:00:01\r\u001b[K     |█████████████████████████████   | 1.4MB 30.9MB/s eta 0:00:01\r\u001b[K     |█████████████████████████████▏  | 1.4MB 30.9MB/s eta 0:00:01\r\u001b[K     |█████████████████████████████▍  | 1.4MB 30.9MB/s eta 0:00:01\r\u001b[K     |█████████████████████████████▋  | 1.4MB 30.9MB/s eta 0:00:01\r\u001b[K     |█████████████████████████████▉  | 1.4MB 30.9MB/s eta 0:00:01\r\u001b[K     |██████████████████████████████  | 1.5MB 30.9MB/s eta 0:00:01\r\u001b[K     |██████████████████████████████▎ | 1.5MB 30.9MB/s eta 0:00:01\r\u001b[K     |██████████████████████████████▌ | 1.5MB 30.9MB/s eta 0:00:01\r\u001b[K     |██████████████████████████████▊ | 1.5MB 30.9MB/s eta 0:00:01\r\u001b[K     |███████████████████████████████ | 1.5MB 30.9MB/s eta 0:00:01\r\u001b[K     |███████████████████████████████▏| 1.5MB 30.9MB/s eta 0:00:01\r\u001b[K     |███████████████████████████████▎| 1.5MB 30.9MB/s eta 0:00:01\r\u001b[K     |███████████████████████████████▌| 1.5MB 30.9MB/s eta 0:00:01\r\u001b[K     |███████████████████████████████▊| 1.5MB 30.9MB/s eta 0:00:01\r\u001b[K     |████████████████████████████████| 1.5MB 30.9MB/s eta 0:00:01\r\u001b[K     |████████████████████████████████| 1.6MB 30.9MB/s \n",
            "\u001b[?25hInstalling collected packages: pip\n",
            "  Found existing installation: pip 19.3.1\n",
            "    Uninstalling pip-19.3.1:\n",
            "      Successfully uninstalled pip-19.3.1\n",
            "Successfully installed pip-21.1.3\n"
          ],
          "name": "stdout"
        }
      ]
    },
    {
      "cell_type": "code",
      "metadata": {
        "colab": {
          "base_uri": "https://localhost:8080/"
        },
        "id": "nJSsRhdoAPEr",
        "outputId": "6f2cde27-b7f7-466d-b056-c733191e1b9e"
      },
      "source": [
        "!python -m pip install --use-feature=2020-resolver ."
      ],
      "execution_count": null,
      "outputs": [
        {
          "output_type": "stream",
          "text": [
            "\u001b[33mWARNING: --use-feature=2020-resolver no longer has any effect, since it is now the default dependency resolver in pip. This will become an error in pip 21.0.\u001b[0m\n",
            "Processing /content/models/research\n",
            "\u001b[33m  DEPRECATION: A future pip version will change local packages to be built in-place without first copying to a temporary directory. We recommend you use --use-feature=in-tree-build to test your packages with this new behavior before it becomes the default.\n",
            "   pip 21.3 will remove support for this functionality. You can find discussion regarding this at https://github.com/pypa/pip/issues/7555.\u001b[0m\n",
            "Requirement already satisfied: avro-python3 in /usr/local/lib/python3.7/dist-packages (from object-detection==0.1) (1.9.2.1)\n",
            "Requirement already satisfied: apache-beam in /usr/local/lib/python3.7/dist-packages (from object-detection==0.1) (2.30.0)\n",
            "Requirement already satisfied: pillow in /usr/local/lib/python3.7/dist-packages (from object-detection==0.1) (7.1.2)\n",
            "Requirement already satisfied: lxml in /usr/local/lib/python3.7/dist-packages (from object-detection==0.1) (4.2.6)\n",
            "Requirement already satisfied: matplotlib in /usr/local/lib/python3.7/dist-packages (from object-detection==0.1) (3.2.2)\n",
            "Requirement already satisfied: Cython in /usr/local/lib/python3.7/dist-packages (from object-detection==0.1) (0.29.23)\n",
            "Requirement already satisfied: contextlib2 in /usr/local/lib/python3.7/dist-packages (from object-detection==0.1) (0.5.5)\n",
            "Requirement already satisfied: tf-slim in /usr/local/lib/python3.7/dist-packages (from object-detection==0.1) (1.1.0)\n",
            "Requirement already satisfied: six in /usr/local/lib/python3.7/dist-packages (from object-detection==0.1) (1.15.0)\n",
            "Requirement already satisfied: pycocotools in /usr/local/lib/python3.7/dist-packages (from object-detection==0.1) (2.0.2)\n",
            "Requirement already satisfied: lvis in /usr/local/lib/python3.7/dist-packages (from object-detection==0.1) (0.5.3)\n",
            "Requirement already satisfied: scipy in /usr/local/lib/python3.7/dist-packages (from object-detection==0.1) (1.4.1)\n",
            "Requirement already satisfied: pandas in /usr/local/lib/python3.7/dist-packages (from object-detection==0.1) (1.1.5)\n",
            "Requirement already satisfied: tf-models-official in /usr/local/lib/python3.7/dist-packages (from object-detection==0.1) (2.5.0)\n",
            "Requirement already satisfied: python-dateutil<3,>=2.8.0 in /usr/local/lib/python3.7/dist-packages (from apache-beam->object-detection==0.1) (2.8.1)\n",
            "Requirement already satisfied: pymongo<4.0.0,>=3.8.0 in /usr/local/lib/python3.7/dist-packages (from apache-beam->object-detection==0.1) (3.11.4)\n",
            "Requirement already satisfied: hdfs<3.0.0,>=2.1.0 in /usr/local/lib/python3.7/dist-packages (from apache-beam->object-detection==0.1) (2.6.0)\n",
            "Requirement already satisfied: numpy<1.21.0,>=1.14.3 in /usr/local/lib/python3.7/dist-packages (from apache-beam->object-detection==0.1) (1.19.5)\n",
            "Requirement already satisfied: grpcio<2,>=1.29.0 in /usr/local/lib/python3.7/dist-packages (from apache-beam->object-detection==0.1) (1.34.1)\n",
            "Requirement already satisfied: oauth2client<5,>=2.0.1 in /usr/local/lib/python3.7/dist-packages (from apache-beam->object-detection==0.1) (4.1.3)\n",
            "Requirement already satisfied: pydot<2,>=1.2.0 in /usr/local/lib/python3.7/dist-packages (from apache-beam->object-detection==0.1) (1.3.0)\n",
            "Requirement already satisfied: dill<0.3.2,>=0.3.1.1 in /usr/local/lib/python3.7/dist-packages (from apache-beam->object-detection==0.1) (0.3.1.1)\n",
            "Requirement already satisfied: httplib2<0.20.0,>=0.8 in /usr/local/lib/python3.7/dist-packages (from apache-beam->object-detection==0.1) (0.17.4)\n",
            "Requirement already satisfied: pyarrow<4.0.0,>=0.15.1 in /usr/local/lib/python3.7/dist-packages (from apache-beam->object-detection==0.1) (3.0.0)\n",
            "Requirement already satisfied: future<1.0.0,>=0.18.2 in /usr/local/lib/python3.7/dist-packages (from apache-beam->object-detection==0.1) (0.18.2)\n",
            "Requirement already satisfied: requests<3.0.0,>=2.24.0 in /usr/local/lib/python3.7/dist-packages (from apache-beam->object-detection==0.1) (2.25.1)\n",
            "Requirement already satisfied: protobuf<4,>=3.12.2 in /usr/local/lib/python3.7/dist-packages (from apache-beam->object-detection==0.1) (3.12.4)\n",
            "Requirement already satisfied: pytz>=2018.3 in /usr/local/lib/python3.7/dist-packages (from apache-beam->object-detection==0.1) (2018.9)\n",
            "Requirement already satisfied: crcmod<2.0,>=1.7 in /usr/local/lib/python3.7/dist-packages (from apache-beam->object-detection==0.1) (1.7)\n",
            "Requirement already satisfied: fastavro<2,>=0.21.4 in /usr/local/lib/python3.7/dist-packages (from apache-beam->object-detection==0.1) (1.4.2)\n",
            "Requirement already satisfied: typing-extensions<3.8.0,>=3.7.0 in /usr/local/lib/python3.7/dist-packages (from apache-beam->object-detection==0.1) (3.7.4.3)\n",
            "Requirement already satisfied: docopt in /usr/local/lib/python3.7/dist-packages (from hdfs<3.0.0,>=2.1.0->apache-beam->object-detection==0.1) (0.6.2)\n",
            "Requirement already satisfied: rsa>=3.1.4 in /usr/local/lib/python3.7/dist-packages (from oauth2client<5,>=2.0.1->apache-beam->object-detection==0.1) (4.7.2)\n",
            "Requirement already satisfied: pyasn1>=0.1.7 in /usr/local/lib/python3.7/dist-packages (from oauth2client<5,>=2.0.1->apache-beam->object-detection==0.1) (0.4.8)\n",
            "Requirement already satisfied: pyasn1-modules>=0.0.5 in /usr/local/lib/python3.7/dist-packages (from oauth2client<5,>=2.0.1->apache-beam->object-detection==0.1) (0.2.8)\n",
            "Requirement already satisfied: setuptools in /usr/local/lib/python3.7/dist-packages (from protobuf<4,>=3.12.2->apache-beam->object-detection==0.1) (57.0.0)\n",
            "Requirement already satisfied: pyparsing>=2.1.4 in /usr/local/lib/python3.7/dist-packages (from pydot<2,>=1.2.0->apache-beam->object-detection==0.1) (2.4.7)\n",
            "Requirement already satisfied: chardet<5,>=3.0.2 in /usr/local/lib/python3.7/dist-packages (from requests<3.0.0,>=2.24.0->apache-beam->object-detection==0.1) (3.0.4)\n",
            "Requirement already satisfied: urllib3<1.27,>=1.21.1 in /usr/local/lib/python3.7/dist-packages (from requests<3.0.0,>=2.24.0->apache-beam->object-detection==0.1) (1.24.3)\n",
            "Requirement already satisfied: idna<3,>=2.5 in /usr/local/lib/python3.7/dist-packages (from requests<3.0.0,>=2.24.0->apache-beam->object-detection==0.1) (2.10)\n",
            "Requirement already satisfied: certifi>=2017.4.17 in /usr/local/lib/python3.7/dist-packages (from requests<3.0.0,>=2.24.0->apache-beam->object-detection==0.1) (2021.5.30)\n",
            "Requirement already satisfied: opencv-python>=4.1.0.25 in /usr/local/lib/python3.7/dist-packages (from lvis->object-detection==0.1) (4.1.2.30)\n",
            "Requirement already satisfied: cycler>=0.10.0 in /usr/local/lib/python3.7/dist-packages (from lvis->object-detection==0.1) (0.10.0)\n",
            "Requirement already satisfied: kiwisolver>=1.1.0 in /usr/local/lib/python3.7/dist-packages (from lvis->object-detection==0.1) (1.3.1)\n",
            "Requirement already satisfied: tensorflow-datasets in /usr/local/lib/python3.7/dist-packages (from tf-models-official->object-detection==0.1) (4.0.1)\n",
            "Requirement already satisfied: tensorflow-model-optimization>=0.4.1 in /usr/local/lib/python3.7/dist-packages (from tf-models-official->object-detection==0.1) (0.6.0)\n",
            "Requirement already satisfied: tensorflow-hub>=0.6.0 in /usr/local/lib/python3.7/dist-packages (from tf-models-official->object-detection==0.1) (0.12.0)\n",
            "Requirement already satisfied: kaggle>=1.3.9 in /usr/local/lib/python3.7/dist-packages (from tf-models-official->object-detection==0.1) (1.5.12)\n",
            "Requirement already satisfied: psutil>=5.4.3 in /usr/local/lib/python3.7/dist-packages (from tf-models-official->object-detection==0.1) (5.4.8)\n",
            "Requirement already satisfied: gin-config in /usr/local/lib/python3.7/dist-packages (from tf-models-official->object-detection==0.1) (0.4.0)\n",
            "Requirement already satisfied: google-api-python-client>=1.6.7 in /usr/local/lib/python3.7/dist-packages (from tf-models-official->object-detection==0.1) (1.12.8)\n",
            "Requirement already satisfied: pyyaml>=5.1 in /usr/local/lib/python3.7/dist-packages (from tf-models-official->object-detection==0.1) (5.4.1)\n",
            "Requirement already satisfied: sentencepiece in /usr/local/lib/python3.7/dist-packages (from tf-models-official->object-detection==0.1) (0.1.96)\n",
            "Requirement already satisfied: opencv-python-headless in /usr/local/lib/python3.7/dist-packages (from tf-models-official->object-detection==0.1) (4.5.2.54)\n",
            "Requirement already satisfied: seqeval in /usr/local/lib/python3.7/dist-packages (from tf-models-official->object-detection==0.1) (1.2.2)\n",
            "Requirement already satisfied: sacrebleu in /usr/local/lib/python3.7/dist-packages (from tf-models-official->object-detection==0.1) (1.5.1)\n",
            "Requirement already satisfied: google-cloud-bigquery>=0.31.0 in /usr/local/lib/python3.7/dist-packages (from tf-models-official->object-detection==0.1) (1.21.0)\n",
            "Requirement already satisfied: tensorflow-addons in /usr/local/lib/python3.7/dist-packages (from tf-models-official->object-detection==0.1) (0.13.0)\n",
            "Requirement already satisfied: py-cpuinfo>=3.3.0 in /usr/local/lib/python3.7/dist-packages (from tf-models-official->object-detection==0.1) (8.0.0)\n",
            "Requirement already satisfied: tensorflow>=2.5.0 in /usr/local/lib/python3.7/dist-packages (from tf-models-official->object-detection==0.1) (2.5.0)\n",
            "Requirement already satisfied: google-auth>=1.16.0 in /usr/local/lib/python3.7/dist-packages (from google-api-python-client>=1.6.7->tf-models-official->object-detection==0.1) (1.31.0)\n",
            "Requirement already satisfied: google-api-core<2dev,>=1.21.0 in /usr/local/lib/python3.7/dist-packages (from google-api-python-client>=1.6.7->tf-models-official->object-detection==0.1) (1.26.3)\n",
            "Requirement already satisfied: google-auth-httplib2>=0.0.3 in /usr/local/lib/python3.7/dist-packages (from google-api-python-client>=1.6.7->tf-models-official->object-detection==0.1) (0.0.4)\n",
            "Requirement already satisfied: uritemplate<4dev,>=3.0.0 in /usr/local/lib/python3.7/dist-packages (from google-api-python-client>=1.6.7->tf-models-official->object-detection==0.1) (3.0.1)\n",
            "Requirement already satisfied: googleapis-common-protos<2.0dev,>=1.6.0 in /usr/local/lib/python3.7/dist-packages (from google-api-core<2dev,>=1.21.0->google-api-python-client>=1.6.7->tf-models-official->object-detection==0.1) (1.53.0)\n",
            "Requirement already satisfied: packaging>=14.3 in /usr/local/lib/python3.7/dist-packages (from google-api-core<2dev,>=1.21.0->google-api-python-client>=1.6.7->tf-models-official->object-detection==0.1) (20.9)\n",
            "Requirement already satisfied: cachetools<5.0,>=2.0.0 in /usr/local/lib/python3.7/dist-packages (from google-auth>=1.16.0->google-api-python-client>=1.6.7->tf-models-official->object-detection==0.1) (4.2.2)\n",
            "Requirement already satisfied: google-cloud-core<2.0dev,>=1.0.3 in /usr/local/lib/python3.7/dist-packages (from google-cloud-bigquery>=0.31.0->tf-models-official->object-detection==0.1) (1.0.3)\n",
            "Requirement already satisfied: google-resumable-media!=0.4.0,<0.5.0dev,>=0.3.1 in /usr/local/lib/python3.7/dist-packages (from google-cloud-bigquery>=0.31.0->tf-models-official->object-detection==0.1) (0.4.1)\n",
            "Requirement already satisfied: tqdm in /usr/local/lib/python3.7/dist-packages (from kaggle>=1.3.9->tf-models-official->object-detection==0.1) (4.41.1)\n",
            "Requirement already satisfied: python-slugify in /usr/local/lib/python3.7/dist-packages (from kaggle>=1.3.9->tf-models-official->object-detection==0.1) (5.0.2)\n",
            "Requirement already satisfied: tensorflow-estimator<2.6.0,>=2.5.0rc0 in /usr/local/lib/python3.7/dist-packages (from tensorflow>=2.5.0->tf-models-official->object-detection==0.1) (2.5.0)\n",
            "Requirement already satisfied: opt-einsum~=3.3.0 in /usr/local/lib/python3.7/dist-packages (from tensorflow>=2.5.0->tf-models-official->object-detection==0.1) (3.3.0)\n",
            "Requirement already satisfied: google-pasta~=0.2 in /usr/local/lib/python3.7/dist-packages (from tensorflow>=2.5.0->tf-models-official->object-detection==0.1) (0.2.0)\n",
            "Requirement already satisfied: keras-preprocessing~=1.1.2 in /usr/local/lib/python3.7/dist-packages (from tensorflow>=2.5.0->tf-models-official->object-detection==0.1) (1.1.2)\n",
            "Requirement already satisfied: keras-nightly~=2.5.0.dev in /usr/local/lib/python3.7/dist-packages (from tensorflow>=2.5.0->tf-models-official->object-detection==0.1) (2.5.0.dev2021032900)\n",
            "Requirement already satisfied: astunparse~=1.6.3 in /usr/local/lib/python3.7/dist-packages (from tensorflow>=2.5.0->tf-models-official->object-detection==0.1) (1.6.3)\n",
            "Requirement already satisfied: wrapt~=1.12.1 in /usr/local/lib/python3.7/dist-packages (from tensorflow>=2.5.0->tf-models-official->object-detection==0.1) (1.12.1)\n",
            "Requirement already satisfied: tensorboard~=2.5 in /usr/local/lib/python3.7/dist-packages (from tensorflow>=2.5.0->tf-models-official->object-detection==0.1) (2.5.0)\n",
            "Requirement already satisfied: termcolor~=1.1.0 in /usr/local/lib/python3.7/dist-packages (from tensorflow>=2.5.0->tf-models-official->object-detection==0.1) (1.1.0)\n",
            "Requirement already satisfied: h5py~=3.1.0 in /usr/local/lib/python3.7/dist-packages (from tensorflow>=2.5.0->tf-models-official->object-detection==0.1) (3.1.0)\n",
            "Requirement already satisfied: absl-py~=0.10 in /usr/local/lib/python3.7/dist-packages (from tensorflow>=2.5.0->tf-models-official->object-detection==0.1) (0.12.0)\n",
            "Requirement already satisfied: wheel~=0.35 in /usr/local/lib/python3.7/dist-packages (from tensorflow>=2.5.0->tf-models-official->object-detection==0.1) (0.36.2)\n",
            "Requirement already satisfied: flatbuffers~=1.12.0 in /usr/local/lib/python3.7/dist-packages (from tensorflow>=2.5.0->tf-models-official->object-detection==0.1) (1.12)\n",
            "Requirement already satisfied: gast==0.4.0 in /usr/local/lib/python3.7/dist-packages (from tensorflow>=2.5.0->tf-models-official->object-detection==0.1) (0.4.0)\n",
            "Requirement already satisfied: cached-property in /usr/local/lib/python3.7/dist-packages (from h5py~=3.1.0->tensorflow>=2.5.0->tf-models-official->object-detection==0.1) (1.5.2)\n",
            "Requirement already satisfied: google-auth-oauthlib<0.5,>=0.4.1 in /usr/local/lib/python3.7/dist-packages (from tensorboard~=2.5->tensorflow>=2.5.0->tf-models-official->object-detection==0.1) (0.4.4)\n",
            "Requirement already satisfied: tensorboard-data-server<0.7.0,>=0.6.0 in /usr/local/lib/python3.7/dist-packages (from tensorboard~=2.5->tensorflow>=2.5.0->tf-models-official->object-detection==0.1) (0.6.1)\n",
            "Requirement already satisfied: tensorboard-plugin-wit>=1.6.0 in /usr/local/lib/python3.7/dist-packages (from tensorboard~=2.5->tensorflow>=2.5.0->tf-models-official->object-detection==0.1) (1.8.0)\n",
            "Requirement already satisfied: werkzeug>=0.11.15 in /usr/local/lib/python3.7/dist-packages (from tensorboard~=2.5->tensorflow>=2.5.0->tf-models-official->object-detection==0.1) (1.0.1)\n",
            "Requirement already satisfied: markdown>=2.6.8 in /usr/local/lib/python3.7/dist-packages (from tensorboard~=2.5->tensorflow>=2.5.0->tf-models-official->object-detection==0.1) (3.3.4)\n",
            "Requirement already satisfied: requests-oauthlib>=0.7.0 in /usr/local/lib/python3.7/dist-packages (from google-auth-oauthlib<0.5,>=0.4.1->tensorboard~=2.5->tensorflow>=2.5.0->tf-models-official->object-detection==0.1) (1.3.0)\n",
            "Requirement already satisfied: importlib-metadata in /usr/local/lib/python3.7/dist-packages (from markdown>=2.6.8->tensorboard~=2.5->tensorflow>=2.5.0->tf-models-official->object-detection==0.1) (4.5.0)\n",
            "Requirement already satisfied: oauthlib>=3.0.0 in /usr/local/lib/python3.7/dist-packages (from requests-oauthlib>=0.7.0->google-auth-oauthlib<0.5,>=0.4.1->tensorboard~=2.5->tensorflow>=2.5.0->tf-models-official->object-detection==0.1) (3.1.1)\n",
            "Requirement already satisfied: dm-tree~=0.1.1 in /usr/local/lib/python3.7/dist-packages (from tensorflow-model-optimization>=0.4.1->tf-models-official->object-detection==0.1) (0.1.6)\n",
            "Requirement already satisfied: zipp>=0.5 in /usr/local/lib/python3.7/dist-packages (from importlib-metadata->markdown>=2.6.8->tensorboard~=2.5->tensorflow>=2.5.0->tf-models-official->object-detection==0.1) (3.4.1)\n",
            "Requirement already satisfied: text-unidecode>=1.3 in /usr/local/lib/python3.7/dist-packages (from python-slugify->kaggle>=1.3.9->tf-models-official->object-detection==0.1) (1.3)\n",
            "Requirement already satisfied: portalocker==2.0.0 in /usr/local/lib/python3.7/dist-packages (from sacrebleu->tf-models-official->object-detection==0.1) (2.0.0)\n",
            "Requirement already satisfied: scikit-learn>=0.21.3 in /usr/local/lib/python3.7/dist-packages (from seqeval->tf-models-official->object-detection==0.1) (0.22.2.post1)\n",
            "Requirement already satisfied: joblib>=0.11 in /usr/local/lib/python3.7/dist-packages (from scikit-learn>=0.21.3->seqeval->tf-models-official->object-detection==0.1) (1.0.1)\n",
            "Requirement already satisfied: typeguard>=2.7 in /usr/local/lib/python3.7/dist-packages (from tensorflow-addons->tf-models-official->object-detection==0.1) (2.7.1)\n",
            "Requirement already satisfied: promise in /usr/local/lib/python3.7/dist-packages (from tensorflow-datasets->tf-models-official->object-detection==0.1) (2.3)\n",
            "Requirement already satisfied: importlib-resources in /usr/local/lib/python3.7/dist-packages (from tensorflow-datasets->tf-models-official->object-detection==0.1) (5.1.4)\n",
            "Requirement already satisfied: tensorflow-metadata in /usr/local/lib/python3.7/dist-packages (from tensorflow-datasets->tf-models-official->object-detection==0.1) (1.0.0)\n",
            "Requirement already satisfied: attrs>=18.1.0 in /usr/local/lib/python3.7/dist-packages (from tensorflow-datasets->tf-models-official->object-detection==0.1) (21.2.0)\n",
            "Building wheels for collected packages: object-detection\n",
            "  Building wheel for object-detection (setup.py) ... \u001b[?25l\u001b[?25hdone\n",
            "  Created wheel for object-detection: filename=object_detection-0.1-py3-none-any.whl size=1618452 sha256=d08a723c416915febb9d5652fa92cdd8df91b8cf50cd8e940794bebbc2c9beec\n",
            "  Stored in directory: /tmp/pip-ephem-wheel-cache-c0aq0r6_/wheels/fa/a4/d2/e9a5057e414fd46c8e543d2706cd836d64e1fcd9eccceb2329\n",
            "Successfully built object-detection\n",
            "Installing collected packages: object-detection\n",
            "  Attempting uninstall: object-detection\n",
            "    Found existing installation: object-detection 0.1\n",
            "    Uninstalling object-detection-0.1:\n",
            "      Successfully uninstalled object-detection-0.1\n",
            "Successfully installed object-detection-0.1\n",
            "\u001b[33mWARNING: Running pip as the 'root' user can result in broken permissions and conflicting behaviour with the system package manager. It is recommended to use a virtual environment instead: https://pip.pypa.io/warnings/venv\u001b[0m\n"
          ],
          "name": "stdout"
        }
      ]
    },
    {
      "cell_type": "code",
      "metadata": {
        "colab": {
          "base_uri": "https://localhost:8080/"
        },
        "id": "ZkdtOLBHAQJC",
        "outputId": "f726d53b-92fb-4f02-d95b-3996b1359100"
      },
      "source": [
        "!python object_detection/builders/model_builder_tf2_test.py"
      ],
      "execution_count": null,
      "outputs": [
        {
          "output_type": "stream",
          "text": [
            "2021-07-01 04:28:46.685698: I tensorflow/stream_executor/platform/default/dso_loader.cc:53] Successfully opened dynamic library libcudart.so.11.0\n",
            "Running tests under Python 3.7.10: /usr/bin/python3\n",
            "[ RUN      ] ModelBuilderTF2Test.test_create_center_net_model\n",
            "2021-07-01 04:28:48.945387: I tensorflow/stream_executor/platform/default/dso_loader.cc:53] Successfully opened dynamic library libcuda.so.1\n",
            "2021-07-01 04:28:49.016372: I tensorflow/stream_executor/cuda/cuda_gpu_executor.cc:937] successful NUMA node read from SysFS had negative value (-1), but there must be at least one NUMA node, so returning NUMA node zero\n",
            "2021-07-01 04:28:49.016977: I tensorflow/core/common_runtime/gpu/gpu_device.cc:1733] Found device 0 with properties: \n",
            "pciBusID: 0000:00:04.0 name: Tesla T4 computeCapability: 7.5\n",
            "coreClock: 1.59GHz coreCount: 40 deviceMemorySize: 14.75GiB deviceMemoryBandwidth: 298.08GiB/s\n",
            "2021-07-01 04:28:49.017019: I tensorflow/stream_executor/platform/default/dso_loader.cc:53] Successfully opened dynamic library libcudart.so.11.0\n",
            "2021-07-01 04:28:49.150563: I tensorflow/stream_executor/platform/default/dso_loader.cc:53] Successfully opened dynamic library libcublas.so.11\n",
            "2021-07-01 04:28:49.150675: I tensorflow/stream_executor/platform/default/dso_loader.cc:53] Successfully opened dynamic library libcublasLt.so.11\n",
            "2021-07-01 04:28:49.287640: I tensorflow/stream_executor/platform/default/dso_loader.cc:53] Successfully opened dynamic library libcufft.so.10\n",
            "2021-07-01 04:28:49.332778: I tensorflow/stream_executor/platform/default/dso_loader.cc:53] Successfully opened dynamic library libcurand.so.10\n",
            "2021-07-01 04:28:49.581442: I tensorflow/stream_executor/platform/default/dso_loader.cc:53] Successfully opened dynamic library libcusolver.so.10\n",
            "2021-07-01 04:28:49.637967: I tensorflow/stream_executor/platform/default/dso_loader.cc:53] Successfully opened dynamic library libcusparse.so.11\n",
            "2021-07-01 04:28:49.642187: I tensorflow/stream_executor/platform/default/dso_loader.cc:53] Successfully opened dynamic library libcudnn.so.8\n",
            "2021-07-01 04:28:49.642332: I tensorflow/stream_executor/cuda/cuda_gpu_executor.cc:937] successful NUMA node read from SysFS had negative value (-1), but there must be at least one NUMA node, so returning NUMA node zero\n",
            "2021-07-01 04:28:49.643019: I tensorflow/stream_executor/cuda/cuda_gpu_executor.cc:937] successful NUMA node read from SysFS had negative value (-1), but there must be at least one NUMA node, so returning NUMA node zero\n",
            "2021-07-01 04:28:49.646607: I tensorflow/core/common_runtime/gpu/gpu_device.cc:1871] Adding visible gpu devices: 0\n",
            "2021-07-01 04:28:49.647225: I tensorflow/stream_executor/cuda/cuda_gpu_executor.cc:937] successful NUMA node read from SysFS had negative value (-1), but there must be at least one NUMA node, so returning NUMA node zero\n",
            "2021-07-01 04:28:49.647812: I tensorflow/core/common_runtime/gpu/gpu_device.cc:1733] Found device 0 with properties: \n",
            "pciBusID: 0000:00:04.0 name: Tesla T4 computeCapability: 7.5\n",
            "coreClock: 1.59GHz coreCount: 40 deviceMemorySize: 14.75GiB deviceMemoryBandwidth: 298.08GiB/s\n",
            "2021-07-01 04:28:49.647905: I tensorflow/stream_executor/cuda/cuda_gpu_executor.cc:937] successful NUMA node read from SysFS had negative value (-1), but there must be at least one NUMA node, so returning NUMA node zero\n",
            "2021-07-01 04:28:49.648465: I tensorflow/stream_executor/cuda/cuda_gpu_executor.cc:937] successful NUMA node read from SysFS had negative value (-1), but there must be at least one NUMA node, so returning NUMA node zero\n",
            "2021-07-01 04:28:49.649010: I tensorflow/core/common_runtime/gpu/gpu_device.cc:1871] Adding visible gpu devices: 0\n",
            "2021-07-01 04:28:49.651767: I tensorflow/stream_executor/platform/default/dso_loader.cc:53] Successfully opened dynamic library libcudart.so.11.0\n",
            "2021-07-01 04:28:54.017510: I tensorflow/core/common_runtime/gpu/gpu_device.cc:1258] Device interconnect StreamExecutor with strength 1 edge matrix:\n",
            "2021-07-01 04:28:54.017573: I tensorflow/core/common_runtime/gpu/gpu_device.cc:1264]      0 \n",
            "2021-07-01 04:28:54.017594: I tensorflow/core/common_runtime/gpu/gpu_device.cc:1277] 0:   N \n",
            "2021-07-01 04:28:54.017774: I tensorflow/stream_executor/cuda/cuda_gpu_executor.cc:937] successful NUMA node read from SysFS had negative value (-1), but there must be at least one NUMA node, so returning NUMA node zero\n",
            "2021-07-01 04:28:54.018400: I tensorflow/stream_executor/cuda/cuda_gpu_executor.cc:937] successful NUMA node read from SysFS had negative value (-1), but there must be at least one NUMA node, so returning NUMA node zero\n",
            "2021-07-01 04:28:54.018995: I tensorflow/stream_executor/cuda/cuda_gpu_executor.cc:937] successful NUMA node read from SysFS had negative value (-1), but there must be at least one NUMA node, so returning NUMA node zero\n",
            "2021-07-01 04:28:54.019515: W tensorflow/core/common_runtime/gpu/gpu_bfc_allocator.cc:39] Overriding allow_growth setting because the TF_FORCE_GPU_ALLOW_GROWTH environment variable is set. Original config value was 0.\n",
            "2021-07-01 04:28:54.019613: I tensorflow/core/common_runtime/gpu/gpu_device.cc:1418] Created TensorFlow device (/job:localhost/replica:0/task:0/device:GPU:0 with 13837 MB memory) -> physical GPU (device: 0, name: Tesla T4, pci bus id: 0000:00:04.0, compute capability: 7.5)\n",
            "INFO:tensorflow:time(__main__.ModelBuilderTF2Test.test_create_center_net_model): 7.78s\n",
            "I0701 04:28:56.524279 140638802671488 test_util.py:2103] time(__main__.ModelBuilderTF2Test.test_create_center_net_model): 7.78s\n",
            "[       OK ] ModelBuilderTF2Test.test_create_center_net_model\n",
            "[ RUN      ] ModelBuilderTF2Test.test_create_experimental_model\n",
            "INFO:tensorflow:time(__main__.ModelBuilderTF2Test.test_create_experimental_model): 0.0s\n",
            "I0701 04:28:56.525370 140638802671488 test_util.py:2103] time(__main__.ModelBuilderTF2Test.test_create_experimental_model): 0.0s\n",
            "[       OK ] ModelBuilderTF2Test.test_create_experimental_model\n",
            "[ RUN      ] ModelBuilderTF2Test.test_create_faster_rcnn_from_config_with_crop_feature0 (True)\n",
            "INFO:tensorflow:time(__main__.ModelBuilderTF2Test.test_create_faster_rcnn_from_config_with_crop_feature0 (True)): 0.02s\n",
            "I0701 04:28:56.545220 140638802671488 test_util.py:2103] time(__main__.ModelBuilderTF2Test.test_create_faster_rcnn_from_config_with_crop_feature0 (True)): 0.02s\n",
            "[       OK ] ModelBuilderTF2Test.test_create_faster_rcnn_from_config_with_crop_feature0 (True)\n",
            "[ RUN      ] ModelBuilderTF2Test.test_create_faster_rcnn_from_config_with_crop_feature1 (False)\n",
            "INFO:tensorflow:time(__main__.ModelBuilderTF2Test.test_create_faster_rcnn_from_config_with_crop_feature1 (False)): 0.01s\n",
            "I0701 04:28:56.558708 140638802671488 test_util.py:2103] time(__main__.ModelBuilderTF2Test.test_create_faster_rcnn_from_config_with_crop_feature1 (False)): 0.01s\n",
            "[       OK ] ModelBuilderTF2Test.test_create_faster_rcnn_from_config_with_crop_feature1 (False)\n",
            "[ RUN      ] ModelBuilderTF2Test.test_create_faster_rcnn_model_from_config_with_example_miner\n",
            "INFO:tensorflow:time(__main__.ModelBuilderTF2Test.test_create_faster_rcnn_model_from_config_with_example_miner): 0.01s\n",
            "I0701 04:28:56.572314 140638802671488 test_util.py:2103] time(__main__.ModelBuilderTF2Test.test_create_faster_rcnn_model_from_config_with_example_miner): 0.01s\n",
            "[       OK ] ModelBuilderTF2Test.test_create_faster_rcnn_model_from_config_with_example_miner\n",
            "[ RUN      ] ModelBuilderTF2Test.test_create_faster_rcnn_models_from_config_faster_rcnn_with_matmul\n",
            "INFO:tensorflow:time(__main__.ModelBuilderTF2Test.test_create_faster_rcnn_models_from_config_faster_rcnn_with_matmul): 0.09s\n",
            "I0701 04:28:56.662045 140638802671488 test_util.py:2103] time(__main__.ModelBuilderTF2Test.test_create_faster_rcnn_models_from_config_faster_rcnn_with_matmul): 0.09s\n",
            "[       OK ] ModelBuilderTF2Test.test_create_faster_rcnn_models_from_config_faster_rcnn_with_matmul\n",
            "[ RUN      ] ModelBuilderTF2Test.test_create_faster_rcnn_models_from_config_faster_rcnn_without_matmul\n",
            "INFO:tensorflow:time(__main__.ModelBuilderTF2Test.test_create_faster_rcnn_models_from_config_faster_rcnn_without_matmul): 0.09s\n",
            "I0701 04:28:56.750510 140638802671488 test_util.py:2103] time(__main__.ModelBuilderTF2Test.test_create_faster_rcnn_models_from_config_faster_rcnn_without_matmul): 0.09s\n",
            "[       OK ] ModelBuilderTF2Test.test_create_faster_rcnn_models_from_config_faster_rcnn_without_matmul\n",
            "[ RUN      ] ModelBuilderTF2Test.test_create_faster_rcnn_models_from_config_mask_rcnn_with_matmul\n",
            "INFO:tensorflow:time(__main__.ModelBuilderTF2Test.test_create_faster_rcnn_models_from_config_mask_rcnn_with_matmul): 0.09s\n",
            "I0701 04:28:56.840387 140638802671488 test_util.py:2103] time(__main__.ModelBuilderTF2Test.test_create_faster_rcnn_models_from_config_mask_rcnn_with_matmul): 0.09s\n",
            "[       OK ] ModelBuilderTF2Test.test_create_faster_rcnn_models_from_config_mask_rcnn_with_matmul\n",
            "[ RUN      ] ModelBuilderTF2Test.test_create_faster_rcnn_models_from_config_mask_rcnn_without_matmul\n",
            "INFO:tensorflow:time(__main__.ModelBuilderTF2Test.test_create_faster_rcnn_models_from_config_mask_rcnn_without_matmul): 0.09s\n",
            "I0701 04:28:56.934016 140638802671488 test_util.py:2103] time(__main__.ModelBuilderTF2Test.test_create_faster_rcnn_models_from_config_mask_rcnn_without_matmul): 0.09s\n",
            "[       OK ] ModelBuilderTF2Test.test_create_faster_rcnn_models_from_config_mask_rcnn_without_matmul\n",
            "[ RUN      ] ModelBuilderTF2Test.test_create_rfcn_model_from_config\n",
            "INFO:tensorflow:time(__main__.ModelBuilderTF2Test.test_create_rfcn_model_from_config): 0.09s\n",
            "I0701 04:28:57.022765 140638802671488 test_util.py:2103] time(__main__.ModelBuilderTF2Test.test_create_rfcn_model_from_config): 0.09s\n",
            "[       OK ] ModelBuilderTF2Test.test_create_rfcn_model_from_config\n",
            "[ RUN      ] ModelBuilderTF2Test.test_create_ssd_fpn_model_from_config\n",
            "INFO:tensorflow:time(__main__.ModelBuilderTF2Test.test_create_ssd_fpn_model_from_config): 0.03s\n",
            "I0701 04:28:57.051195 140638802671488 test_util.py:2103] time(__main__.ModelBuilderTF2Test.test_create_ssd_fpn_model_from_config): 0.03s\n",
            "[       OK ] ModelBuilderTF2Test.test_create_ssd_fpn_model_from_config\n",
            "[ RUN      ] ModelBuilderTF2Test.test_create_ssd_models_from_config\n",
            "I0701 04:28:57.207896 140638802671488 ssd_efficientnet_bifpn_feature_extractor.py:144] EfficientDet EfficientNet backbone version: efficientnet-b0\n",
            "I0701 04:28:57.208070 140638802671488 ssd_efficientnet_bifpn_feature_extractor.py:145] EfficientDet BiFPN num filters: 64\n",
            "I0701 04:28:57.208146 140638802671488 ssd_efficientnet_bifpn_feature_extractor.py:147] EfficientDet BiFPN num iterations: 3\n",
            "I0701 04:28:57.210003 140638802671488 efficientnet_model.py:147] round_filter input=32 output=32\n",
            "I0701 04:28:57.225069 140638802671488 efficientnet_model.py:147] round_filter input=32 output=32\n",
            "I0701 04:28:57.225194 140638802671488 efficientnet_model.py:147] round_filter input=16 output=16\n",
            "I0701 04:28:57.279036 140638802671488 efficientnet_model.py:147] round_filter input=16 output=16\n",
            "I0701 04:28:57.279160 140638802671488 efficientnet_model.py:147] round_filter input=24 output=24\n",
            "I0701 04:28:57.410518 140638802671488 efficientnet_model.py:147] round_filter input=24 output=24\n",
            "I0701 04:28:57.410737 140638802671488 efficientnet_model.py:147] round_filter input=40 output=40\n",
            "I0701 04:28:57.684316 140638802671488 efficientnet_model.py:147] round_filter input=40 output=40\n",
            "I0701 04:28:57.684492 140638802671488 efficientnet_model.py:147] round_filter input=80 output=80\n",
            "I0701 04:28:57.885240 140638802671488 efficientnet_model.py:147] round_filter input=80 output=80\n",
            "I0701 04:28:57.885427 140638802671488 efficientnet_model.py:147] round_filter input=112 output=112\n",
            "I0701 04:28:58.079201 140638802671488 efficientnet_model.py:147] round_filter input=112 output=112\n",
            "I0701 04:28:58.079374 140638802671488 efficientnet_model.py:147] round_filter input=192 output=192\n",
            "I0701 04:28:58.340824 140638802671488 efficientnet_model.py:147] round_filter input=192 output=192\n",
            "I0701 04:28:58.340998 140638802671488 efficientnet_model.py:147] round_filter input=320 output=320\n",
            "I0701 04:28:58.401396 140638802671488 efficientnet_model.py:147] round_filter input=1280 output=1280\n",
            "I0701 04:28:58.428735 140638802671488 efficientnet_model.py:458] Building model efficientnet with params ModelConfig(width_coefficient=1.0, depth_coefficient=1.0, resolution=224, dropout_rate=0.2, blocks=(BlockConfig(input_filters=32, output_filters=16, kernel_size=3, num_repeat=1, expand_ratio=1, strides=(1, 1), se_ratio=0.25, id_skip=True, fused_conv=False, conv_type='depthwise'), BlockConfig(input_filters=16, output_filters=24, kernel_size=3, num_repeat=2, expand_ratio=6, strides=(2, 2), se_ratio=0.25, id_skip=True, fused_conv=False, conv_type='depthwise'), BlockConfig(input_filters=24, output_filters=40, kernel_size=5, num_repeat=2, expand_ratio=6, strides=(2, 2), se_ratio=0.25, id_skip=True, fused_conv=False, conv_type='depthwise'), BlockConfig(input_filters=40, output_filters=80, kernel_size=3, num_repeat=3, expand_ratio=6, strides=(2, 2), se_ratio=0.25, id_skip=True, fused_conv=False, conv_type='depthwise'), BlockConfig(input_filters=80, output_filters=112, kernel_size=5, num_repeat=3, expand_ratio=6, strides=(1, 1), se_ratio=0.25, id_skip=True, fused_conv=False, conv_type='depthwise'), BlockConfig(input_filters=112, output_filters=192, kernel_size=5, num_repeat=4, expand_ratio=6, strides=(2, 2), se_ratio=0.25, id_skip=True, fused_conv=False, conv_type='depthwise'), BlockConfig(input_filters=192, output_filters=320, kernel_size=3, num_repeat=1, expand_ratio=6, strides=(1, 1), se_ratio=0.25, id_skip=True, fused_conv=False, conv_type='depthwise')), stem_base_filters=32, top_base_filters=1280, activation='simple_swish', batch_norm='default', bn_momentum=0.99, bn_epsilon=0.001, weight_decay=5e-06, drop_connect_rate=0.2, depth_divisor=8, min_depth=None, use_se=True, input_channels=3, num_classes=1000, model_name='efficientnet', rescale_input=False, data_format='channels_last', dtype='float32')\n",
            "I0701 04:28:58.476751 140638802671488 ssd_efficientnet_bifpn_feature_extractor.py:144] EfficientDet EfficientNet backbone version: efficientnet-b1\n",
            "I0701 04:28:58.476913 140638802671488 ssd_efficientnet_bifpn_feature_extractor.py:145] EfficientDet BiFPN num filters: 88\n",
            "I0701 04:28:58.476985 140638802671488 ssd_efficientnet_bifpn_feature_extractor.py:147] EfficientDet BiFPN num iterations: 4\n",
            "I0701 04:28:58.478462 140638802671488 efficientnet_model.py:147] round_filter input=32 output=32\n",
            "I0701 04:28:58.491380 140638802671488 efficientnet_model.py:147] round_filter input=32 output=32\n",
            "I0701 04:28:58.491495 140638802671488 efficientnet_model.py:147] round_filter input=16 output=16\n",
            "I0701 04:28:58.602511 140638802671488 efficientnet_model.py:147] round_filter input=16 output=16\n",
            "I0701 04:28:58.602705 140638802671488 efficientnet_model.py:147] round_filter input=24 output=24\n",
            "I0701 04:28:58.804896 140638802671488 efficientnet_model.py:147] round_filter input=24 output=24\n",
            "I0701 04:28:58.805071 140638802671488 efficientnet_model.py:147] round_filter input=40 output=40\n",
            "I0701 04:28:59.001032 140638802671488 efficientnet_model.py:147] round_filter input=40 output=40\n",
            "I0701 04:28:59.001204 140638802671488 efficientnet_model.py:147] round_filter input=80 output=80\n",
            "I0701 04:28:59.258196 140638802671488 efficientnet_model.py:147] round_filter input=80 output=80\n",
            "I0701 04:28:59.258367 140638802671488 efficientnet_model.py:147] round_filter input=112 output=112\n",
            "I0701 04:28:59.516799 140638802671488 efficientnet_model.py:147] round_filter input=112 output=112\n",
            "I0701 04:28:59.516983 140638802671488 efficientnet_model.py:147] round_filter input=192 output=192\n",
            "I0701 04:28:59.840624 140638802671488 efficientnet_model.py:147] round_filter input=192 output=192\n",
            "I0701 04:28:59.840799 140638802671488 efficientnet_model.py:147] round_filter input=320 output=320\n",
            "I0701 04:28:59.970218 140638802671488 efficientnet_model.py:147] round_filter input=1280 output=1280\n",
            "I0701 04:28:59.994328 140638802671488 efficientnet_model.py:458] Building model efficientnet with params ModelConfig(width_coefficient=1.0, depth_coefficient=1.1, resolution=240, dropout_rate=0.2, blocks=(BlockConfig(input_filters=32, output_filters=16, kernel_size=3, num_repeat=1, expand_ratio=1, strides=(1, 1), se_ratio=0.25, id_skip=True, fused_conv=False, conv_type='depthwise'), BlockConfig(input_filters=16, output_filters=24, kernel_size=3, num_repeat=2, expand_ratio=6, strides=(2, 2), se_ratio=0.25, id_skip=True, fused_conv=False, conv_type='depthwise'), BlockConfig(input_filters=24, output_filters=40, kernel_size=5, num_repeat=2, expand_ratio=6, strides=(2, 2), se_ratio=0.25, id_skip=True, fused_conv=False, conv_type='depthwise'), BlockConfig(input_filters=40, output_filters=80, kernel_size=3, num_repeat=3, expand_ratio=6, strides=(2, 2), se_ratio=0.25, id_skip=True, fused_conv=False, conv_type='depthwise'), BlockConfig(input_filters=80, output_filters=112, kernel_size=5, num_repeat=3, expand_ratio=6, strides=(1, 1), se_ratio=0.25, id_skip=True, fused_conv=False, conv_type='depthwise'), BlockConfig(input_filters=112, output_filters=192, kernel_size=5, num_repeat=4, expand_ratio=6, strides=(2, 2), se_ratio=0.25, id_skip=True, fused_conv=False, conv_type='depthwise'), BlockConfig(input_filters=192, output_filters=320, kernel_size=3, num_repeat=1, expand_ratio=6, strides=(1, 1), se_ratio=0.25, id_skip=True, fused_conv=False, conv_type='depthwise')), stem_base_filters=32, top_base_filters=1280, activation='simple_swish', batch_norm='default', bn_momentum=0.99, bn_epsilon=0.001, weight_decay=5e-06, drop_connect_rate=0.2, depth_divisor=8, min_depth=None, use_se=True, input_channels=3, num_classes=1000, model_name='efficientnet', rescale_input=False, data_format='channels_last', dtype='float32')\n",
            "I0701 04:29:00.048240 140638802671488 ssd_efficientnet_bifpn_feature_extractor.py:144] EfficientDet EfficientNet backbone version: efficientnet-b2\n",
            "I0701 04:29:00.048408 140638802671488 ssd_efficientnet_bifpn_feature_extractor.py:145] EfficientDet BiFPN num filters: 112\n",
            "I0701 04:29:00.048482 140638802671488 ssd_efficientnet_bifpn_feature_extractor.py:147] EfficientDet BiFPN num iterations: 5\n",
            "I0701 04:29:00.049966 140638802671488 efficientnet_model.py:147] round_filter input=32 output=32\n",
            "I0701 04:29:00.066141 140638802671488 efficientnet_model.py:147] round_filter input=32 output=32\n",
            "I0701 04:29:00.066247 140638802671488 efficientnet_model.py:147] round_filter input=16 output=16\n",
            "I0701 04:29:00.294820 140638802671488 efficientnet_model.py:147] round_filter input=16 output=16\n",
            "I0701 04:29:00.295016 140638802671488 efficientnet_model.py:147] round_filter input=24 output=24\n",
            "I0701 04:29:00.493136 140638802671488 efficientnet_model.py:147] round_filter input=24 output=24\n",
            "I0701 04:29:00.493314 140638802671488 efficientnet_model.py:147] round_filter input=40 output=48\n",
            "I0701 04:29:00.689652 140638802671488 efficientnet_model.py:147] round_filter input=40 output=48\n",
            "I0701 04:29:00.689811 140638802671488 efficientnet_model.py:147] round_filter input=80 output=88\n",
            "I0701 04:29:00.951379 140638802671488 efficientnet_model.py:147] round_filter input=80 output=88\n",
            "I0701 04:29:00.951568 140638802671488 efficientnet_model.py:147] round_filter input=112 output=120\n",
            "I0701 04:29:01.208280 140638802671488 efficientnet_model.py:147] round_filter input=112 output=120\n",
            "I0701 04:29:01.208456 140638802671488 efficientnet_model.py:147] round_filter input=192 output=208\n",
            "I0701 04:29:01.534430 140638802671488 efficientnet_model.py:147] round_filter input=192 output=208\n",
            "I0701 04:29:01.534614 140638802671488 efficientnet_model.py:147] round_filter input=320 output=352\n",
            "I0701 04:29:01.659740 140638802671488 efficientnet_model.py:147] round_filter input=1280 output=1408\n",
            "I0701 04:29:01.685312 140638802671488 efficientnet_model.py:458] Building model efficientnet with params ModelConfig(width_coefficient=1.1, depth_coefficient=1.2, resolution=260, dropout_rate=0.3, blocks=(BlockConfig(input_filters=32, output_filters=16, kernel_size=3, num_repeat=1, expand_ratio=1, strides=(1, 1), se_ratio=0.25, id_skip=True, fused_conv=False, conv_type='depthwise'), BlockConfig(input_filters=16, output_filters=24, kernel_size=3, num_repeat=2, expand_ratio=6, strides=(2, 2), se_ratio=0.25, id_skip=True, fused_conv=False, conv_type='depthwise'), BlockConfig(input_filters=24, output_filters=40, kernel_size=5, num_repeat=2, expand_ratio=6, strides=(2, 2), se_ratio=0.25, id_skip=True, fused_conv=False, conv_type='depthwise'), BlockConfig(input_filters=40, output_filters=80, kernel_size=3, num_repeat=3, expand_ratio=6, strides=(2, 2), se_ratio=0.25, id_skip=True, fused_conv=False, conv_type='depthwise'), BlockConfig(input_filters=80, output_filters=112, kernel_size=5, num_repeat=3, expand_ratio=6, strides=(1, 1), se_ratio=0.25, id_skip=True, fused_conv=False, conv_type='depthwise'), BlockConfig(input_filters=112, output_filters=192, kernel_size=5, num_repeat=4, expand_ratio=6, strides=(2, 2), se_ratio=0.25, id_skip=True, fused_conv=False, conv_type='depthwise'), BlockConfig(input_filters=192, output_filters=320, kernel_size=3, num_repeat=1, expand_ratio=6, strides=(1, 1), se_ratio=0.25, id_skip=True, fused_conv=False, conv_type='depthwise')), stem_base_filters=32, top_base_filters=1280, activation='simple_swish', batch_norm='default', bn_momentum=0.99, bn_epsilon=0.001, weight_decay=5e-06, drop_connect_rate=0.2, depth_divisor=8, min_depth=None, use_se=True, input_channels=3, num_classes=1000, model_name='efficientnet', rescale_input=False, data_format='channels_last', dtype='float32')\n",
            "I0701 04:29:01.740306 140638802671488 ssd_efficientnet_bifpn_feature_extractor.py:144] EfficientDet EfficientNet backbone version: efficientnet-b3\n",
            "I0701 04:29:01.740492 140638802671488 ssd_efficientnet_bifpn_feature_extractor.py:145] EfficientDet BiFPN num filters: 160\n",
            "I0701 04:29:01.740576 140638802671488 ssd_efficientnet_bifpn_feature_extractor.py:147] EfficientDet BiFPN num iterations: 6\n",
            "I0701 04:29:01.742105 140638802671488 efficientnet_model.py:147] round_filter input=32 output=40\n",
            "I0701 04:29:01.755764 140638802671488 efficientnet_model.py:147] round_filter input=32 output=40\n",
            "I0701 04:29:01.755880 140638802671488 efficientnet_model.py:147] round_filter input=16 output=24\n",
            "I0701 04:29:01.869985 140638802671488 efficientnet_model.py:147] round_filter input=16 output=24\n",
            "I0701 04:29:01.870181 140638802671488 efficientnet_model.py:147] round_filter input=24 output=32\n",
            "I0701 04:29:02.064027 140638802671488 efficientnet_model.py:147] round_filter input=24 output=32\n",
            "I0701 04:29:02.064199 140638802671488 efficientnet_model.py:147] round_filter input=40 output=48\n",
            "I0701 04:29:02.254879 140638802671488 efficientnet_model.py:147] round_filter input=40 output=48\n",
            "I0701 04:29:02.255056 140638802671488 efficientnet_model.py:147] round_filter input=80 output=96\n",
            "I0701 04:29:02.579650 140638802671488 efficientnet_model.py:147] round_filter input=80 output=96\n",
            "I0701 04:29:02.579849 140638802671488 efficientnet_model.py:147] round_filter input=112 output=136\n",
            "I0701 04:29:02.906758 140638802671488 efficientnet_model.py:147] round_filter input=112 output=136\n",
            "I0701 04:29:02.906939 140638802671488 efficientnet_model.py:147] round_filter input=192 output=232\n",
            "I0701 04:29:03.302978 140638802671488 efficientnet_model.py:147] round_filter input=192 output=232\n",
            "I0701 04:29:03.303157 140638802671488 efficientnet_model.py:147] round_filter input=320 output=384\n",
            "I0701 04:29:03.599669 140638802671488 efficientnet_model.py:147] round_filter input=1280 output=1536\n",
            "I0701 04:29:03.626307 140638802671488 efficientnet_model.py:458] Building model efficientnet with params ModelConfig(width_coefficient=1.2, depth_coefficient=1.4, resolution=300, dropout_rate=0.3, blocks=(BlockConfig(input_filters=32, output_filters=16, kernel_size=3, num_repeat=1, expand_ratio=1, strides=(1, 1), se_ratio=0.25, id_skip=True, fused_conv=False, conv_type='depthwise'), BlockConfig(input_filters=16, output_filters=24, kernel_size=3, num_repeat=2, expand_ratio=6, strides=(2, 2), se_ratio=0.25, id_skip=True, fused_conv=False, conv_type='depthwise'), BlockConfig(input_filters=24, output_filters=40, kernel_size=5, num_repeat=2, expand_ratio=6, strides=(2, 2), se_ratio=0.25, id_skip=True, fused_conv=False, conv_type='depthwise'), BlockConfig(input_filters=40, output_filters=80, kernel_size=3, num_repeat=3, expand_ratio=6, strides=(2, 2), se_ratio=0.25, id_skip=True, fused_conv=False, conv_type='depthwise'), BlockConfig(input_filters=80, output_filters=112, kernel_size=5, num_repeat=3, expand_ratio=6, strides=(1, 1), se_ratio=0.25, id_skip=True, fused_conv=False, conv_type='depthwise'), BlockConfig(input_filters=112, output_filters=192, kernel_size=5, num_repeat=4, expand_ratio=6, strides=(2, 2), se_ratio=0.25, id_skip=True, fused_conv=False, conv_type='depthwise'), BlockConfig(input_filters=192, output_filters=320, kernel_size=3, num_repeat=1, expand_ratio=6, strides=(1, 1), se_ratio=0.25, id_skip=True, fused_conv=False, conv_type='depthwise')), stem_base_filters=32, top_base_filters=1280, activation='simple_swish', batch_norm='default', bn_momentum=0.99, bn_epsilon=0.001, weight_decay=5e-06, drop_connect_rate=0.2, depth_divisor=8, min_depth=None, use_se=True, input_channels=3, num_classes=1000, model_name='efficientnet', rescale_input=False, data_format='channels_last', dtype='float32')\n",
            "I0701 04:29:03.694681 140638802671488 ssd_efficientnet_bifpn_feature_extractor.py:144] EfficientDet EfficientNet backbone version: efficientnet-b4\n",
            "I0701 04:29:03.694859 140638802671488 ssd_efficientnet_bifpn_feature_extractor.py:145] EfficientDet BiFPN num filters: 224\n",
            "I0701 04:29:03.694941 140638802671488 ssd_efficientnet_bifpn_feature_extractor.py:147] EfficientDet BiFPN num iterations: 7\n",
            "I0701 04:29:03.696615 140638802671488 efficientnet_model.py:147] round_filter input=32 output=48\n",
            "I0701 04:29:03.711875 140638802671488 efficientnet_model.py:147] round_filter input=32 output=48\n",
            "I0701 04:29:03.711999 140638802671488 efficientnet_model.py:147] round_filter input=16 output=24\n",
            "I0701 04:29:03.826889 140638802671488 efficientnet_model.py:147] round_filter input=16 output=24\n",
            "I0701 04:29:03.827073 140638802671488 efficientnet_model.py:147] round_filter input=24 output=32\n",
            "I0701 04:29:04.103370 140638802671488 efficientnet_model.py:147] round_filter input=24 output=32\n",
            "I0701 04:29:04.103560 140638802671488 efficientnet_model.py:147] round_filter input=40 output=56\n",
            "I0701 04:29:04.363820 140638802671488 efficientnet_model.py:147] round_filter input=40 output=56\n",
            "I0701 04:29:04.364012 140638802671488 efficientnet_model.py:147] round_filter input=80 output=112\n",
            "I0701 04:29:04.742840 140638802671488 efficientnet_model.py:147] round_filter input=80 output=112\n",
            "I0701 04:29:04.743019 140638802671488 efficientnet_model.py:147] round_filter input=112 output=160\n",
            "I0701 04:29:05.134998 140638802671488 efficientnet_model.py:147] round_filter input=112 output=160\n",
            "I0701 04:29:05.135189 140638802671488 efficientnet_model.py:147] round_filter input=192 output=272\n",
            "I0701 04:29:05.656076 140638802671488 efficientnet_model.py:147] round_filter input=192 output=272\n",
            "I0701 04:29:05.656258 140638802671488 efficientnet_model.py:147] round_filter input=320 output=448\n",
            "I0701 04:29:05.779885 140638802671488 efficientnet_model.py:147] round_filter input=1280 output=1792\n",
            "I0701 04:29:05.804693 140638802671488 efficientnet_model.py:458] Building model efficientnet with params ModelConfig(width_coefficient=1.4, depth_coefficient=1.8, resolution=380, dropout_rate=0.4, blocks=(BlockConfig(input_filters=32, output_filters=16, kernel_size=3, num_repeat=1, expand_ratio=1, strides=(1, 1), se_ratio=0.25, id_skip=True, fused_conv=False, conv_type='depthwise'), BlockConfig(input_filters=16, output_filters=24, kernel_size=3, num_repeat=2, expand_ratio=6, strides=(2, 2), se_ratio=0.25, id_skip=True, fused_conv=False, conv_type='depthwise'), BlockConfig(input_filters=24, output_filters=40, kernel_size=5, num_repeat=2, expand_ratio=6, strides=(2, 2), se_ratio=0.25, id_skip=True, fused_conv=False, conv_type='depthwise'), BlockConfig(input_filters=40, output_filters=80, kernel_size=3, num_repeat=3, expand_ratio=6, strides=(2, 2), se_ratio=0.25, id_skip=True, fused_conv=False, conv_type='depthwise'), BlockConfig(input_filters=80, output_filters=112, kernel_size=5, num_repeat=3, expand_ratio=6, strides=(1, 1), se_ratio=0.25, id_skip=True, fused_conv=False, conv_type='depthwise'), BlockConfig(input_filters=112, output_filters=192, kernel_size=5, num_repeat=4, expand_ratio=6, strides=(2, 2), se_ratio=0.25, id_skip=True, fused_conv=False, conv_type='depthwise'), BlockConfig(input_filters=192, output_filters=320, kernel_size=3, num_repeat=1, expand_ratio=6, strides=(1, 1), se_ratio=0.25, id_skip=True, fused_conv=False, conv_type='depthwise')), stem_base_filters=32, top_base_filters=1280, activation='simple_swish', batch_norm='default', bn_momentum=0.99, bn_epsilon=0.001, weight_decay=5e-06, drop_connect_rate=0.2, depth_divisor=8, min_depth=None, use_se=True, input_channels=3, num_classes=1000, model_name='efficientnet', rescale_input=False, data_format='channels_last', dtype='float32')\n",
            "I0701 04:29:05.875085 140638802671488 ssd_efficientnet_bifpn_feature_extractor.py:144] EfficientDet EfficientNet backbone version: efficientnet-b5\n",
            "I0701 04:29:05.875254 140638802671488 ssd_efficientnet_bifpn_feature_extractor.py:145] EfficientDet BiFPN num filters: 288\n",
            "I0701 04:29:05.875325 140638802671488 ssd_efficientnet_bifpn_feature_extractor.py:147] EfficientDet BiFPN num iterations: 7\n",
            "I0701 04:29:05.877842 140638802671488 efficientnet_model.py:147] round_filter input=32 output=48\n",
            "I0701 04:29:05.893687 140638802671488 efficientnet_model.py:147] round_filter input=32 output=48\n",
            "I0701 04:29:05.893811 140638802671488 efficientnet_model.py:147] round_filter input=16 output=24\n",
            "I0701 04:29:06.048899 140638802671488 efficientnet_model.py:147] round_filter input=16 output=24\n",
            "I0701 04:29:06.049072 140638802671488 efficientnet_model.py:147] round_filter input=24 output=40\n",
            "I0701 04:29:06.373321 140638802671488 efficientnet_model.py:147] round_filter input=24 output=40\n",
            "I0701 04:29:06.373501 140638802671488 efficientnet_model.py:147] round_filter input=40 output=64\n",
            "I0701 04:29:06.890166 140638802671488 efficientnet_model.py:147] round_filter input=40 output=64\n",
            "I0701 04:29:06.890342 140638802671488 efficientnet_model.py:147] round_filter input=80 output=128\n",
            "I0701 04:29:07.346234 140638802671488 efficientnet_model.py:147] round_filter input=80 output=128\n",
            "I0701 04:29:07.346419 140638802671488 efficientnet_model.py:147] round_filter input=112 output=176\n",
            "I0701 04:29:07.805969 140638802671488 efficientnet_model.py:147] round_filter input=112 output=176\n",
            "I0701 04:29:07.806140 140638802671488 efficientnet_model.py:147] round_filter input=192 output=304\n",
            "I0701 04:29:08.407068 140638802671488 efficientnet_model.py:147] round_filter input=192 output=304\n",
            "I0701 04:29:08.407239 140638802671488 efficientnet_model.py:147] round_filter input=320 output=512\n",
            "I0701 04:29:08.594906 140638802671488 efficientnet_model.py:147] round_filter input=1280 output=2048\n",
            "I0701 04:29:08.618873 140638802671488 efficientnet_model.py:458] Building model efficientnet with params ModelConfig(width_coefficient=1.6, depth_coefficient=2.2, resolution=456, dropout_rate=0.4, blocks=(BlockConfig(input_filters=32, output_filters=16, kernel_size=3, num_repeat=1, expand_ratio=1, strides=(1, 1), se_ratio=0.25, id_skip=True, fused_conv=False, conv_type='depthwise'), BlockConfig(input_filters=16, output_filters=24, kernel_size=3, num_repeat=2, expand_ratio=6, strides=(2, 2), se_ratio=0.25, id_skip=True, fused_conv=False, conv_type='depthwise'), BlockConfig(input_filters=24, output_filters=40, kernel_size=5, num_repeat=2, expand_ratio=6, strides=(2, 2), se_ratio=0.25, id_skip=True, fused_conv=False, conv_type='depthwise'), BlockConfig(input_filters=40, output_filters=80, kernel_size=3, num_repeat=3, expand_ratio=6, strides=(2, 2), se_ratio=0.25, id_skip=True, fused_conv=False, conv_type='depthwise'), BlockConfig(input_filters=80, output_filters=112, kernel_size=5, num_repeat=3, expand_ratio=6, strides=(1, 1), se_ratio=0.25, id_skip=True, fused_conv=False, conv_type='depthwise'), BlockConfig(input_filters=112, output_filters=192, kernel_size=5, num_repeat=4, expand_ratio=6, strides=(2, 2), se_ratio=0.25, id_skip=True, fused_conv=False, conv_type='depthwise'), BlockConfig(input_filters=192, output_filters=320, kernel_size=3, num_repeat=1, expand_ratio=6, strides=(1, 1), se_ratio=0.25, id_skip=True, fused_conv=False, conv_type='depthwise')), stem_base_filters=32, top_base_filters=1280, activation='simple_swish', batch_norm='default', bn_momentum=0.99, bn_epsilon=0.001, weight_decay=5e-06, drop_connect_rate=0.2, depth_divisor=8, min_depth=None, use_se=True, input_channels=3, num_classes=1000, model_name='efficientnet', rescale_input=False, data_format='channels_last', dtype='float32')\n",
            "I0701 04:29:08.702127 140638802671488 ssd_efficientnet_bifpn_feature_extractor.py:144] EfficientDet EfficientNet backbone version: efficientnet-b6\n",
            "I0701 04:29:08.702289 140638802671488 ssd_efficientnet_bifpn_feature_extractor.py:145] EfficientDet BiFPN num filters: 384\n",
            "I0701 04:29:08.702362 140638802671488 ssd_efficientnet_bifpn_feature_extractor.py:147] EfficientDet BiFPN num iterations: 8\n",
            "I0701 04:29:08.703908 140638802671488 efficientnet_model.py:147] round_filter input=32 output=56\n",
            "I0701 04:29:08.717532 140638802671488 efficientnet_model.py:147] round_filter input=32 output=56\n",
            "I0701 04:29:08.717663 140638802671488 efficientnet_model.py:147] round_filter input=16 output=32\n",
            "I0701 04:29:08.871494 140638802671488 efficientnet_model.py:147] round_filter input=16 output=32\n",
            "I0701 04:29:08.871694 140638802671488 efficientnet_model.py:147] round_filter input=24 output=40\n",
            "I0701 04:29:09.266676 140638802671488 efficientnet_model.py:147] round_filter input=24 output=40\n",
            "I0701 04:29:09.266849 140638802671488 efficientnet_model.py:147] round_filter input=40 output=72\n",
            "I0701 04:29:09.651739 140638802671488 efficientnet_model.py:147] round_filter input=40 output=72\n",
            "I0701 04:29:09.651914 140638802671488 efficientnet_model.py:147] round_filter input=80 output=144\n",
            "I0701 04:29:10.166603 140638802671488 efficientnet_model.py:147] round_filter input=80 output=144\n",
            "I0701 04:29:10.166774 140638802671488 efficientnet_model.py:147] round_filter input=112 output=200\n",
            "I0701 04:29:10.857648 140638802671488 efficientnet_model.py:147] round_filter input=112 output=200\n",
            "I0701 04:29:10.857826 140638802671488 efficientnet_model.py:147] round_filter input=192 output=344\n",
            "I0701 04:29:11.580134 140638802671488 efficientnet_model.py:147] round_filter input=192 output=344\n",
            "I0701 04:29:11.580314 140638802671488 efficientnet_model.py:147] round_filter input=320 output=576\n",
            "I0701 04:29:11.770501 140638802671488 efficientnet_model.py:147] round_filter input=1280 output=2304\n",
            "I0701 04:29:11.794127 140638802671488 efficientnet_model.py:458] Building model efficientnet with params ModelConfig(width_coefficient=1.8, depth_coefficient=2.6, resolution=528, dropout_rate=0.5, blocks=(BlockConfig(input_filters=32, output_filters=16, kernel_size=3, num_repeat=1, expand_ratio=1, strides=(1, 1), se_ratio=0.25, id_skip=True, fused_conv=False, conv_type='depthwise'), BlockConfig(input_filters=16, output_filters=24, kernel_size=3, num_repeat=2, expand_ratio=6, strides=(2, 2), se_ratio=0.25, id_skip=True, fused_conv=False, conv_type='depthwise'), BlockConfig(input_filters=24, output_filters=40, kernel_size=5, num_repeat=2, expand_ratio=6, strides=(2, 2), se_ratio=0.25, id_skip=True, fused_conv=False, conv_type='depthwise'), BlockConfig(input_filters=40, output_filters=80, kernel_size=3, num_repeat=3, expand_ratio=6, strides=(2, 2), se_ratio=0.25, id_skip=True, fused_conv=False, conv_type='depthwise'), BlockConfig(input_filters=80, output_filters=112, kernel_size=5, num_repeat=3, expand_ratio=6, strides=(1, 1), se_ratio=0.25, id_skip=True, fused_conv=False, conv_type='depthwise'), BlockConfig(input_filters=112, output_filters=192, kernel_size=5, num_repeat=4, expand_ratio=6, strides=(2, 2), se_ratio=0.25, id_skip=True, fused_conv=False, conv_type='depthwise'), BlockConfig(input_filters=192, output_filters=320, kernel_size=3, num_repeat=1, expand_ratio=6, strides=(1, 1), se_ratio=0.25, id_skip=True, fused_conv=False, conv_type='depthwise')), stem_base_filters=32, top_base_filters=1280, activation='simple_swish', batch_norm='default', bn_momentum=0.99, bn_epsilon=0.001, weight_decay=5e-06, drop_connect_rate=0.2, depth_divisor=8, min_depth=None, use_se=True, input_channels=3, num_classes=1000, model_name='efficientnet', rescale_input=False, data_format='channels_last', dtype='float32')\n",
            "I0701 04:29:11.891430 140638802671488 ssd_efficientnet_bifpn_feature_extractor.py:144] EfficientDet EfficientNet backbone version: efficientnet-b7\n",
            "I0701 04:29:11.891628 140638802671488 ssd_efficientnet_bifpn_feature_extractor.py:145] EfficientDet BiFPN num filters: 384\n",
            "I0701 04:29:11.891707 140638802671488 ssd_efficientnet_bifpn_feature_extractor.py:147] EfficientDet BiFPN num iterations: 8\n",
            "I0701 04:29:11.893243 140638802671488 efficientnet_model.py:147] round_filter input=32 output=64\n",
            "I0701 04:29:11.907246 140638802671488 efficientnet_model.py:147] round_filter input=32 output=64\n",
            "I0701 04:29:11.907368 140638802671488 efficientnet_model.py:147] round_filter input=16 output=32\n",
            "I0701 04:29:12.129971 140638802671488 efficientnet_model.py:147] round_filter input=16 output=32\n",
            "I0701 04:29:12.130147 140638802671488 efficientnet_model.py:147] round_filter input=24 output=48\n",
            "I0701 04:29:12.599697 140638802671488 efficientnet_model.py:147] round_filter input=24 output=48\n",
            "I0701 04:29:12.599932 140638802671488 efficientnet_model.py:147] round_filter input=40 output=80\n",
            "I0701 04:29:13.058784 140638802671488 efficientnet_model.py:147] round_filter input=40 output=80\n",
            "I0701 04:29:13.059003 140638802671488 efficientnet_model.py:147] round_filter input=80 output=160\n",
            "I0701 04:29:13.704099 140638802671488 efficientnet_model.py:147] round_filter input=80 output=160\n",
            "I0701 04:29:13.704281 140638802671488 efficientnet_model.py:147] round_filter input=112 output=224\n",
            "I0701 04:29:14.543395 140638802671488 efficientnet_model.py:147] round_filter input=112 output=224\n",
            "I0701 04:29:14.543583 140638802671488 efficientnet_model.py:147] round_filter input=192 output=384\n",
            "I0701 04:29:15.380616 140638802671488 efficientnet_model.py:147] round_filter input=192 output=384\n",
            "I0701 04:29:15.380793 140638802671488 efficientnet_model.py:147] round_filter input=320 output=640\n",
            "I0701 04:29:15.638855 140638802671488 efficientnet_model.py:147] round_filter input=1280 output=2560\n",
            "I0701 04:29:15.671376 140638802671488 efficientnet_model.py:458] Building model efficientnet with params ModelConfig(width_coefficient=2.0, depth_coefficient=3.1, resolution=600, dropout_rate=0.5, blocks=(BlockConfig(input_filters=32, output_filters=16, kernel_size=3, num_repeat=1, expand_ratio=1, strides=(1, 1), se_ratio=0.25, id_skip=True, fused_conv=False, conv_type='depthwise'), BlockConfig(input_filters=16, output_filters=24, kernel_size=3, num_repeat=2, expand_ratio=6, strides=(2, 2), se_ratio=0.25, id_skip=True, fused_conv=False, conv_type='depthwise'), BlockConfig(input_filters=24, output_filters=40, kernel_size=5, num_repeat=2, expand_ratio=6, strides=(2, 2), se_ratio=0.25, id_skip=True, fused_conv=False, conv_type='depthwise'), BlockConfig(input_filters=40, output_filters=80, kernel_size=3, num_repeat=3, expand_ratio=6, strides=(2, 2), se_ratio=0.25, id_skip=True, fused_conv=False, conv_type='depthwise'), BlockConfig(input_filters=80, output_filters=112, kernel_size=5, num_repeat=3, expand_ratio=6, strides=(1, 1), se_ratio=0.25, id_skip=True, fused_conv=False, conv_type='depthwise'), BlockConfig(input_filters=112, output_filters=192, kernel_size=5, num_repeat=4, expand_ratio=6, strides=(2, 2), se_ratio=0.25, id_skip=True, fused_conv=False, conv_type='depthwise'), BlockConfig(input_filters=192, output_filters=320, kernel_size=3, num_repeat=1, expand_ratio=6, strides=(1, 1), se_ratio=0.25, id_skip=True, fused_conv=False, conv_type='depthwise')), stem_base_filters=32, top_base_filters=1280, activation='simple_swish', batch_norm='default', bn_momentum=0.99, bn_epsilon=0.001, weight_decay=5e-06, drop_connect_rate=0.2, depth_divisor=8, min_depth=None, use_se=True, input_channels=3, num_classes=1000, model_name='efficientnet', rescale_input=False, data_format='channels_last', dtype='float32')\n",
            "INFO:tensorflow:time(__main__.ModelBuilderTF2Test.test_create_ssd_models_from_config): 18.73s\n",
            "I0701 04:29:15.781839 140638802671488 test_util.py:2103] time(__main__.ModelBuilderTF2Test.test_create_ssd_models_from_config): 18.73s\n",
            "[       OK ] ModelBuilderTF2Test.test_create_ssd_models_from_config\n",
            "[ RUN      ] ModelBuilderTF2Test.test_invalid_faster_rcnn_batchnorm_update\n",
            "INFO:tensorflow:time(__main__.ModelBuilderTF2Test.test_invalid_faster_rcnn_batchnorm_update): 0.0s\n",
            "I0701 04:29:15.789139 140638802671488 test_util.py:2103] time(__main__.ModelBuilderTF2Test.test_invalid_faster_rcnn_batchnorm_update): 0.0s\n",
            "[       OK ] ModelBuilderTF2Test.test_invalid_faster_rcnn_batchnorm_update\n",
            "[ RUN      ] ModelBuilderTF2Test.test_invalid_first_stage_nms_iou_threshold\n",
            "INFO:tensorflow:time(__main__.ModelBuilderTF2Test.test_invalid_first_stage_nms_iou_threshold): 0.0s\n",
            "I0701 04:29:15.790736 140638802671488 test_util.py:2103] time(__main__.ModelBuilderTF2Test.test_invalid_first_stage_nms_iou_threshold): 0.0s\n",
            "[       OK ] ModelBuilderTF2Test.test_invalid_first_stage_nms_iou_threshold\n",
            "[ RUN      ] ModelBuilderTF2Test.test_invalid_model_config_proto\n",
            "INFO:tensorflow:time(__main__.ModelBuilderTF2Test.test_invalid_model_config_proto): 0.0s\n",
            "I0701 04:29:15.791223 140638802671488 test_util.py:2103] time(__main__.ModelBuilderTF2Test.test_invalid_model_config_proto): 0.0s\n",
            "[       OK ] ModelBuilderTF2Test.test_invalid_model_config_proto\n",
            "[ RUN      ] ModelBuilderTF2Test.test_invalid_second_stage_batch_size\n",
            "INFO:tensorflow:time(__main__.ModelBuilderTF2Test.test_invalid_second_stage_batch_size): 0.0s\n",
            "I0701 04:29:15.792643 140638802671488 test_util.py:2103] time(__main__.ModelBuilderTF2Test.test_invalid_second_stage_batch_size): 0.0s\n",
            "[       OK ] ModelBuilderTF2Test.test_invalid_second_stage_batch_size\n",
            "[ RUN      ] ModelBuilderTF2Test.test_session\n",
            "[  SKIPPED ] ModelBuilderTF2Test.test_session\n",
            "[ RUN      ] ModelBuilderTF2Test.test_unknown_faster_rcnn_feature_extractor\n",
            "INFO:tensorflow:time(__main__.ModelBuilderTF2Test.test_unknown_faster_rcnn_feature_extractor): 0.0s\n",
            "I0701 04:29:15.793933 140638802671488 test_util.py:2103] time(__main__.ModelBuilderTF2Test.test_unknown_faster_rcnn_feature_extractor): 0.0s\n",
            "[       OK ] ModelBuilderTF2Test.test_unknown_faster_rcnn_feature_extractor\n",
            "[ RUN      ] ModelBuilderTF2Test.test_unknown_meta_architecture\n",
            "INFO:tensorflow:time(__main__.ModelBuilderTF2Test.test_unknown_meta_architecture): 0.0s\n",
            "I0701 04:29:15.794350 140638802671488 test_util.py:2103] time(__main__.ModelBuilderTF2Test.test_unknown_meta_architecture): 0.0s\n",
            "[       OK ] ModelBuilderTF2Test.test_unknown_meta_architecture\n",
            "[ RUN      ] ModelBuilderTF2Test.test_unknown_ssd_feature_extractor\n",
            "INFO:tensorflow:time(__main__.ModelBuilderTF2Test.test_unknown_ssd_feature_extractor): 0.0s\n",
            "I0701 04:29:15.795460 140638802671488 test_util.py:2103] time(__main__.ModelBuilderTF2Test.test_unknown_ssd_feature_extractor): 0.0s\n",
            "[       OK ] ModelBuilderTF2Test.test_unknown_ssd_feature_extractor\n",
            "----------------------------------------------------------------------\n",
            "Ran 20 tests in 27.053s\n",
            "\n",
            "OK (skipped=1)\n"
          ],
          "name": "stdout"
        }
      ]
    },
    {
      "cell_type": "markdown",
      "metadata": {
        "id": "isbWEZnLFM-Z"
      },
      "source": [
        "# Google Colab mount"
      ]
    },
    {
      "cell_type": "code",
      "metadata": {
        "colab": {
          "base_uri": "https://localhost:8080/"
        },
        "id": "PaqlbRxwFMuG",
        "outputId": "e9d28f97-4da1-473f-d6bb-d47b8476521f"
      },
      "source": [
        "from google.colab import drive\n",
        "drive.mount('/content/drive')"
      ],
      "execution_count": null,
      "outputs": [
        {
          "output_type": "stream",
          "text": [
            "Mounted at /content/drive\n"
          ],
          "name": "stdout"
        }
      ]
    },
    {
      "cell_type": "markdown",
      "metadata": {
        "id": "wgmQ1AvYGNSZ"
      },
      "source": [
        "# Amenity Detection용 TFRecord 경로 설정"
      ]
    },
    {
      "cell_type": "code",
      "metadata": {
        "id": "XNkrf04hFrXZ"
      },
      "source": [
        "# TFRecord 저장경로:\n",
        "# /content/drive/MyDrive/Colab Notebooks/amenity_detection/"
      ],
      "execution_count": null,
      "outputs": []
    },
    {
      "cell_type": "markdown",
      "metadata": {
        "id": "S8-EOHnEIWMt"
      },
      "source": [
        "# pbtxt 파일 Reference : https://gist.github.com/solaris33/b1ebebb05aa641cb729e8f47e43bdf0b (Amenity label map)"
      ]
    },
    {
      "cell_type": "code",
      "metadata": {
        "id": "2xB9q-w8FrJ4"
      },
      "source": [
        "# 다운로드 받은 oid_v4_label_map_amenity_30_class.pbtxt 파일을 models/research/object_detection/data/ 경로에 업로드합니다. "
      ],
      "execution_count": null,
      "outputs": []
    },
    {
      "cell_type": "markdown",
      "metadata": {
        "id": "AlfM0f5m8RFB"
      },
      "source": [
        "# Training을 위한 config 파일 다운로드\n",
        "## Reference : https://gist.github.com/solaris33/e911598fcbd46570c138154151e1056e"
      ]
    },
    {
      "cell_type": "code",
      "metadata": {
        "id": "mdlGBsk-AtO1",
        "colab": {
          "base_uri": "https://localhost:8080/"
        },
        "outputId": "d595eb6b-3249-4ede-bfc7-c2d7cb0dd06e"
      },
      "source": [
        "!wget https://gist.githubusercontent.com/solaris33/e911598fcbd46570c138154151e1056e/raw/ddfa961b8cc3cd87804bd6d254d7909c85d22e51/centernet_hourglass104_512x512_amenity_30class.config -O centernet_hourglass104_512x512_amenity_30class.config"
      ],
      "execution_count": null,
      "outputs": [
        {
          "output_type": "stream",
          "text": [
            "--2021-07-01 04:30:16--  https://gist.githubusercontent.com/solaris33/e911598fcbd46570c138154151e1056e/raw/ddfa961b8cc3cd87804bd6d254d7909c85d22e51/centernet_hourglass104_512x512_amenity_30class.config\n",
            "Resolving gist.githubusercontent.com (gist.githubusercontent.com)... 185.199.108.133, 185.199.109.133, 185.199.110.133, ...\n",
            "Connecting to gist.githubusercontent.com (gist.githubusercontent.com)|185.199.108.133|:443... connected.\n",
            "HTTP request sent, awaiting response... 200 OK\n",
            "Length: 3062 (3.0K) [text/plain]\n",
            "Saving to: ‘centernet_hourglass104_512x512_amenity_30class.config’\n",
            "\n",
            "\r          centernet   0%[                    ]       0  --.-KB/s               \rcenternet_hourglass 100%[===================>]   2.99K  --.-KB/s    in 0s      \n",
            "\n",
            "2021-07-01 04:30:16 (44.2 MB/s) - ‘centernet_hourglass104_512x512_amenity_30class.config’ saved [3062/3062]\n",
            "\n"
          ],
          "name": "stdout"
        }
      ]
    },
    {
      "cell_type": "code",
      "metadata": {
        "colab": {
          "base_uri": "https://localhost:8080/"
        },
        "id": "3diXYqgvBbDM",
        "outputId": "065cbc3e-6d50-4efa-b87b-4b15c85b7bb2"
      },
      "source": [
        "!pwd"
      ],
      "execution_count": null,
      "outputs": [
        {
          "output_type": "stream",
          "text": [
            "/content/models/research\n"
          ],
          "name": "stdout"
        }
      ]
    },
    {
      "cell_type": "code",
      "metadata": {
        "colab": {
          "base_uri": "https://localhost:8080/"
        },
        "id": "a5i8R58cRz3Q",
        "outputId": "57f552b1-46a9-4225-e10b-eba39dedf054"
      },
      "source": [
        "!ls"
      ],
      "execution_count": null,
      "outputs": [
        {
          "output_type": "stream",
          "text": [
            "a3c_blogpost\t\t\t\t\t       lfads\n",
            "adversarial_text\t\t\t\t       lstm_object_detection\n",
            "attention_ocr\t\t\t\t\t       marco\n",
            "audioset\t\t\t\t\t       nst_blogpost\n",
            "autoaugment\t\t\t\t\t       object_detection\n",
            "centernet_hourglass104_512x512_amenity_30class.config  pcl_rl\n",
            "cognitive_planning\t\t\t\t       README.md\n",
            "cvt_text\t\t\t\t\t       rebar\n",
            "deeplab\t\t\t\t\t\t       seq_flow_lite\n",
            "deep_speech\t\t\t\t\t       setup.py\n",
            "delf\t\t\t\t\t\t       slim\n",
            "efficient-hrl\t\t\t\t\t       vid2depth\n"
          ],
          "name": "stdout"
        }
      ]
    },
    {
      "cell_type": "code",
      "metadata": {
        "id": "fSX4HCfzAwvp"
      },
      "source": [
        "# From the tensorflow/models/research/ directory\n",
        "PIPELINE_CONFIG_PATH=\"centernet_hourglass104_512x512_amenity_30class.config\"\n",
        "#MODEL_DIR=\"./saved_result_licenseplate\"\n",
        "MODEL_DIR=\"/content/drive/MyDrive/saved_result_amenity_detection\""
      ],
      "execution_count": null,
      "outputs": []
    },
    {
      "cell_type": "code",
      "metadata": {
        "colab": {
          "base_uri": "https://localhost:8080/"
        },
        "id": "iCXpsrVbD-Cn",
        "outputId": "123c8234-c73a-40e1-cfed-97372012a0fe"
      },
      "source": [
        "!python -m pip install tensorflow==2.4.0"
      ],
      "execution_count": null,
      "outputs": [
        {
          "output_type": "stream",
          "text": [
            "Collecting tensorflow==2.4.0\n",
            "  Downloading tensorflow-2.4.0-cp37-cp37m-manylinux2010_x86_64.whl (394.7 MB)\n",
            "\u001b[K     |████████████████████████████████| 394.7 MB 17 kB/s \n",
            "\u001b[?25hRequirement already satisfied: absl-py~=0.10 in /usr/local/lib/python3.7/dist-packages (from tensorflow==2.4.0) (0.12.0)\n",
            "Requirement already satisfied: tensorboard~=2.4 in /usr/local/lib/python3.7/dist-packages (from tensorflow==2.4.0) (2.5.0)\n",
            "Requirement already satisfied: opt-einsum~=3.3.0 in /usr/local/lib/python3.7/dist-packages (from tensorflow==2.4.0) (3.3.0)\n",
            "Collecting h5py~=2.10.0\n",
            "  Downloading h5py-2.10.0-cp37-cp37m-manylinux1_x86_64.whl (2.9 MB)\n",
            "\u001b[K     |████████████████████████████████| 2.9 MB 55.9 MB/s \n",
            "\u001b[?25hCollecting tensorflow-estimator<2.5.0,>=2.4.0rc0\n",
            "  Downloading tensorflow_estimator-2.4.0-py2.py3-none-any.whl (462 kB)\n",
            "\u001b[K     |████████████████████████████████| 462 kB 59.9 MB/s \n",
            "\u001b[?25hRequirement already satisfied: numpy~=1.19.2 in /usr/local/lib/python3.7/dist-packages (from tensorflow==2.4.0) (1.19.5)\n",
            "Requirement already satisfied: termcolor~=1.1.0 in /usr/local/lib/python3.7/dist-packages (from tensorflow==2.4.0) (1.1.0)\n",
            "Requirement already satisfied: protobuf>=3.9.2 in /usr/local/lib/python3.7/dist-packages (from tensorflow==2.4.0) (3.12.4)\n",
            "Requirement already satisfied: wheel~=0.35 in /usr/local/lib/python3.7/dist-packages (from tensorflow==2.4.0) (0.36.2)\n",
            "Requirement already satisfied: wrapt~=1.12.1 in /usr/local/lib/python3.7/dist-packages (from tensorflow==2.4.0) (1.12.1)\n",
            "Requirement already satisfied: astunparse~=1.6.3 in /usr/local/lib/python3.7/dist-packages (from tensorflow==2.4.0) (1.6.3)\n",
            "Collecting gast==0.3.3\n",
            "  Downloading gast-0.3.3-py2.py3-none-any.whl (9.7 kB)\n",
            "Collecting grpcio~=1.32.0\n",
            "  Downloading grpcio-1.32.0-cp37-cp37m-manylinux2014_x86_64.whl (3.8 MB)\n",
            "\u001b[K     |████████████████████████████████| 3.8 MB 51.7 MB/s \n",
            "\u001b[?25hRequirement already satisfied: six~=1.15.0 in /usr/local/lib/python3.7/dist-packages (from tensorflow==2.4.0) (1.15.0)\n",
            "Requirement already satisfied: typing-extensions~=3.7.4 in /usr/local/lib/python3.7/dist-packages (from tensorflow==2.4.0) (3.7.4.3)\n",
            "Requirement already satisfied: keras-preprocessing~=1.1.2 in /usr/local/lib/python3.7/dist-packages (from tensorflow==2.4.0) (1.1.2)\n",
            "Requirement already satisfied: google-pasta~=0.2 in /usr/local/lib/python3.7/dist-packages (from tensorflow==2.4.0) (0.2.0)\n",
            "Requirement already satisfied: flatbuffers~=1.12.0 in /usr/local/lib/python3.7/dist-packages (from tensorflow==2.4.0) (1.12)\n",
            "Requirement already satisfied: setuptools in /usr/local/lib/python3.7/dist-packages (from protobuf>=3.9.2->tensorflow==2.4.0) (57.0.0)\n",
            "Requirement already satisfied: tensorboard-plugin-wit>=1.6.0 in /usr/local/lib/python3.7/dist-packages (from tensorboard~=2.4->tensorflow==2.4.0) (1.8.0)\n",
            "Requirement already satisfied: requests<3,>=2.21.0 in /usr/local/lib/python3.7/dist-packages (from tensorboard~=2.4->tensorflow==2.4.0) (2.25.1)\n",
            "Requirement already satisfied: werkzeug>=0.11.15 in /usr/local/lib/python3.7/dist-packages (from tensorboard~=2.4->tensorflow==2.4.0) (1.0.1)\n",
            "Requirement already satisfied: tensorboard-data-server<0.7.0,>=0.6.0 in /usr/local/lib/python3.7/dist-packages (from tensorboard~=2.4->tensorflow==2.4.0) (0.6.1)\n",
            "Requirement already satisfied: markdown>=2.6.8 in /usr/local/lib/python3.7/dist-packages (from tensorboard~=2.4->tensorflow==2.4.0) (3.3.4)\n",
            "Requirement already satisfied: google-auth<2,>=1.6.3 in /usr/local/lib/python3.7/dist-packages (from tensorboard~=2.4->tensorflow==2.4.0) (1.31.0)\n",
            "Requirement already satisfied: google-auth-oauthlib<0.5,>=0.4.1 in /usr/local/lib/python3.7/dist-packages (from tensorboard~=2.4->tensorflow==2.4.0) (0.4.4)\n",
            "Requirement already satisfied: cachetools<5.0,>=2.0.0 in /usr/local/lib/python3.7/dist-packages (from google-auth<2,>=1.6.3->tensorboard~=2.4->tensorflow==2.4.0) (4.2.2)\n",
            "Requirement already satisfied: pyasn1-modules>=0.2.1 in /usr/local/lib/python3.7/dist-packages (from google-auth<2,>=1.6.3->tensorboard~=2.4->tensorflow==2.4.0) (0.2.8)\n",
            "Requirement already satisfied: rsa<5,>=3.1.4 in /usr/local/lib/python3.7/dist-packages (from google-auth<2,>=1.6.3->tensorboard~=2.4->tensorflow==2.4.0) (4.7.2)\n",
            "Requirement already satisfied: requests-oauthlib>=0.7.0 in /usr/local/lib/python3.7/dist-packages (from google-auth-oauthlib<0.5,>=0.4.1->tensorboard~=2.4->tensorflow==2.4.0) (1.3.0)\n",
            "Requirement already satisfied: importlib-metadata in /usr/local/lib/python3.7/dist-packages (from markdown>=2.6.8->tensorboard~=2.4->tensorflow==2.4.0) (4.5.0)\n",
            "Requirement already satisfied: pyasn1<0.5.0,>=0.4.6 in /usr/local/lib/python3.7/dist-packages (from pyasn1-modules>=0.2.1->google-auth<2,>=1.6.3->tensorboard~=2.4->tensorflow==2.4.0) (0.4.8)\n",
            "Requirement already satisfied: chardet<5,>=3.0.2 in /usr/local/lib/python3.7/dist-packages (from requests<3,>=2.21.0->tensorboard~=2.4->tensorflow==2.4.0) (3.0.4)\n",
            "Requirement already satisfied: certifi>=2017.4.17 in /usr/local/lib/python3.7/dist-packages (from requests<3,>=2.21.0->tensorboard~=2.4->tensorflow==2.4.0) (2021.5.30)\n",
            "Requirement already satisfied: idna<3,>=2.5 in /usr/local/lib/python3.7/dist-packages (from requests<3,>=2.21.0->tensorboard~=2.4->tensorflow==2.4.0) (2.10)\n",
            "Requirement already satisfied: urllib3<1.27,>=1.21.1 in /usr/local/lib/python3.7/dist-packages (from requests<3,>=2.21.0->tensorboard~=2.4->tensorflow==2.4.0) (1.24.3)\n",
            "Requirement already satisfied: oauthlib>=3.0.0 in /usr/local/lib/python3.7/dist-packages (from requests-oauthlib>=0.7.0->google-auth-oauthlib<0.5,>=0.4.1->tensorboard~=2.4->tensorflow==2.4.0) (3.1.1)\n",
            "Requirement already satisfied: zipp>=0.5 in /usr/local/lib/python3.7/dist-packages (from importlib-metadata->markdown>=2.6.8->tensorboard~=2.4->tensorflow==2.4.0) (3.4.1)\n",
            "Installing collected packages: grpcio, tensorflow-estimator, h5py, gast, tensorflow\n",
            "  Attempting uninstall: grpcio\n",
            "    Found existing installation: grpcio 1.34.1\n",
            "    Uninstalling grpcio-1.34.1:\n",
            "      Successfully uninstalled grpcio-1.34.1\n",
            "  Attempting uninstall: tensorflow-estimator\n",
            "    Found existing installation: tensorflow-estimator 2.5.0\n",
            "    Uninstalling tensorflow-estimator-2.5.0:\n",
            "      Successfully uninstalled tensorflow-estimator-2.5.0\n",
            "  Attempting uninstall: h5py\n",
            "    Found existing installation: h5py 3.1.0\n",
            "    Uninstalling h5py-3.1.0:\n",
            "      Successfully uninstalled h5py-3.1.0\n",
            "  Attempting uninstall: gast\n",
            "    Found existing installation: gast 0.4.0\n",
            "    Uninstalling gast-0.4.0:\n",
            "      Successfully uninstalled gast-0.4.0\n",
            "  Attempting uninstall: tensorflow\n",
            "    Found existing installation: tensorflow 2.5.0\n",
            "    Uninstalling tensorflow-2.5.0:\n",
            "      Successfully uninstalled tensorflow-2.5.0\n",
            "\u001b[31mERROR: pip's dependency resolver does not currently take into account all the packages that are installed. This behaviour is the source of the following dependency conflicts.\n",
            "tf-models-official 2.5.0 requires tensorflow>=2.5.0, but you have tensorflow 2.4.0 which is incompatible.\u001b[0m\n",
            "Successfully installed gast-0.3.3 grpcio-1.32.0 h5py-2.10.0 tensorflow-2.4.0 tensorflow-estimator-2.4.0\n",
            "\u001b[33mWARNING: Running pip as the 'root' user can result in broken permissions and conflicting behaviour with the system package manager. It is recommended to use a virtual environment instead: https://pip.pypa.io/warnings/venv\u001b[0m\n"
          ],
          "name": "stdout"
        }
      ]
    },
    {
      "cell_type": "code",
      "metadata": {
        "colab": {
          "base_uri": "https://localhost:8080/"
        },
        "id": "uIpl_QXJB3Wj",
        "outputId": "43e6dcf8-9457-474c-af38-03b161586b61"
      },
      "source": [
        "!python object_detection/model_main_tf2.py \\\n",
        "    --pipeline_config_path={PIPELINE_CONFIG_PATH} \\\n",
        "    --model_dir={MODEL_DIR} \\\n",
        "    --alsologtostderr"
      ],
      "execution_count": null,
      "outputs": [
        {
          "output_type": "stream",
          "text": [
            "2021-07-01 05:13:58.099337: I tensorflow/stream_executor/platform/default/dso_loader.cc:49] Successfully opened dynamic library libcudart.so.11.0\n",
            "2021-07-01 05:14:07.831137: I tensorflow/compiler/jit/xla_cpu_device.cc:41] Not creating XLA devices, tf_xla_enable_xla_devices not set\n",
            "2021-07-01 05:14:07.845859: I tensorflow/stream_executor/platform/default/dso_loader.cc:49] Successfully opened dynamic library libcuda.so.1\n",
            "2021-07-01 05:14:07.912183: I tensorflow/stream_executor/cuda/cuda_gpu_executor.cc:941] successful NUMA node read from SysFS had negative value (-1), but there must be at least one NUMA node, so returning NUMA node zero\n",
            "2021-07-01 05:14:07.912821: I tensorflow/core/common_runtime/gpu/gpu_device.cc:1720] Found device 0 with properties: \n",
            "pciBusID: 0000:00:04.0 name: Tesla T4 computeCapability: 7.5\n",
            "coreClock: 1.59GHz coreCount: 40 deviceMemorySize: 14.75GiB deviceMemoryBandwidth: 298.08GiB/s\n",
            "2021-07-01 05:14:07.912871: I tensorflow/stream_executor/platform/default/dso_loader.cc:49] Successfully opened dynamic library libcudart.so.11.0\n",
            "2021-07-01 05:14:07.989096: I tensorflow/stream_executor/platform/default/dso_loader.cc:49] Successfully opened dynamic library libcublas.so.11\n",
            "2021-07-01 05:14:07.989211: I tensorflow/stream_executor/platform/default/dso_loader.cc:49] Successfully opened dynamic library libcublasLt.so.11\n",
            "2021-07-01 05:14:08.095517: I tensorflow/stream_executor/platform/default/dso_loader.cc:49] Successfully opened dynamic library libcufft.so.10\n",
            "2021-07-01 05:14:08.102015: I tensorflow/stream_executor/platform/default/dso_loader.cc:49] Successfully opened dynamic library libcurand.so.10\n",
            "2021-07-01 05:14:08.123291: I tensorflow/stream_executor/platform/default/dso_loader.cc:49] Successfully opened dynamic library libcusolver.so.10\n",
            "2021-07-01 05:14:08.125877: I tensorflow/stream_executor/platform/default/dso_loader.cc:49] Successfully opened dynamic library libcusparse.so.11\n",
            "2021-07-01 05:14:08.130633: I tensorflow/stream_executor/platform/default/dso_loader.cc:49] Successfully opened dynamic library libcudnn.so.8\n",
            "2021-07-01 05:14:08.130768: I tensorflow/stream_executor/cuda/cuda_gpu_executor.cc:941] successful NUMA node read from SysFS had negative value (-1), but there must be at least one NUMA node, so returning NUMA node zero\n",
            "2021-07-01 05:14:08.131412: I tensorflow/stream_executor/cuda/cuda_gpu_executor.cc:941] successful NUMA node read from SysFS had negative value (-1), but there must be at least one NUMA node, so returning NUMA node zero\n",
            "2021-07-01 05:14:08.131953: I tensorflow/core/common_runtime/gpu/gpu_device.cc:1862] Adding visible gpu devices: 0\n",
            "2021-07-01 05:14:08.132488: I tensorflow/compiler/jit/xla_gpu_device.cc:99] Not creating XLA devices, tf_xla_enable_xla_devices not set\n",
            "2021-07-01 05:14:08.132631: I tensorflow/stream_executor/cuda/cuda_gpu_executor.cc:941] successful NUMA node read from SysFS had negative value (-1), but there must be at least one NUMA node, so returning NUMA node zero\n",
            "2021-07-01 05:14:08.133201: I tensorflow/core/common_runtime/gpu/gpu_device.cc:1720] Found device 0 with properties: \n",
            "pciBusID: 0000:00:04.0 name: Tesla T4 computeCapability: 7.5\n",
            "coreClock: 1.59GHz coreCount: 40 deviceMemorySize: 14.75GiB deviceMemoryBandwidth: 298.08GiB/s\n",
            "2021-07-01 05:14:08.133230: I tensorflow/stream_executor/platform/default/dso_loader.cc:49] Successfully opened dynamic library libcudart.so.11.0\n",
            "2021-07-01 05:14:08.133268: I tensorflow/stream_executor/platform/default/dso_loader.cc:49] Successfully opened dynamic library libcublas.so.11\n",
            "2021-07-01 05:14:08.133290: I tensorflow/stream_executor/platform/default/dso_loader.cc:49] Successfully opened dynamic library libcublasLt.so.11\n",
            "2021-07-01 05:14:08.133311: I tensorflow/stream_executor/platform/default/dso_loader.cc:49] Successfully opened dynamic library libcufft.so.10\n",
            "2021-07-01 05:14:08.133331: I tensorflow/stream_executor/platform/default/dso_loader.cc:49] Successfully opened dynamic library libcurand.so.10\n",
            "2021-07-01 05:14:08.133353: I tensorflow/stream_executor/platform/default/dso_loader.cc:49] Successfully opened dynamic library libcusolver.so.10\n",
            "2021-07-01 05:14:08.133373: I tensorflow/stream_executor/platform/default/dso_loader.cc:49] Successfully opened dynamic library libcusparse.so.11\n",
            "2021-07-01 05:14:08.133392: I tensorflow/stream_executor/platform/default/dso_loader.cc:49] Successfully opened dynamic library libcudnn.so.8\n",
            "2021-07-01 05:14:08.133461: I tensorflow/stream_executor/cuda/cuda_gpu_executor.cc:941] successful NUMA node read from SysFS had negative value (-1), but there must be at least one NUMA node, so returning NUMA node zero\n",
            "2021-07-01 05:14:08.134074: I tensorflow/stream_executor/cuda/cuda_gpu_executor.cc:941] successful NUMA node read from SysFS had negative value (-1), but there must be at least one NUMA node, so returning NUMA node zero\n",
            "2021-07-01 05:14:08.134605: I tensorflow/core/common_runtime/gpu/gpu_device.cc:1862] Adding visible gpu devices: 0\n",
            "2021-07-01 05:14:08.136742: I tensorflow/stream_executor/platform/default/dso_loader.cc:49] Successfully opened dynamic library libcudart.so.11.0\n",
            "2021-07-01 05:14:11.699164: I tensorflow/core/common_runtime/gpu/gpu_device.cc:1261] Device interconnect StreamExecutor with strength 1 edge matrix:\n",
            "2021-07-01 05:14:11.699210: I tensorflow/core/common_runtime/gpu/gpu_device.cc:1267]      0 \n",
            "2021-07-01 05:14:11.699225: I tensorflow/core/common_runtime/gpu/gpu_device.cc:1280] 0:   N \n",
            "2021-07-01 05:14:11.699444: I tensorflow/stream_executor/cuda/cuda_gpu_executor.cc:941] successful NUMA node read from SysFS had negative value (-1), but there must be at least one NUMA node, so returning NUMA node zero\n",
            "2021-07-01 05:14:11.700113: I tensorflow/stream_executor/cuda/cuda_gpu_executor.cc:941] successful NUMA node read from SysFS had negative value (-1), but there must be at least one NUMA node, so returning NUMA node zero\n",
            "2021-07-01 05:14:11.700720: I tensorflow/stream_executor/cuda/cuda_gpu_executor.cc:941] successful NUMA node read from SysFS had negative value (-1), but there must be at least one NUMA node, so returning NUMA node zero\n",
            "2021-07-01 05:14:11.701231: W tensorflow/core/common_runtime/gpu/gpu_bfc_allocator.cc:39] Overriding allow_growth setting because the TF_FORCE_GPU_ALLOW_GROWTH environment variable is set. Original config value was 0.\n",
            "2021-07-01 05:14:11.701278: I tensorflow/core/common_runtime/gpu/gpu_device.cc:1406] Created TensorFlow device (/job:localhost/replica:0/task:0/device:GPU:0 with 13968 MB memory) -> physical GPU (device: 0, name: Tesla T4, pci bus id: 0000:00:04.0, compute capability: 7.5)\n",
            "INFO:tensorflow:Using MirroredStrategy with devices ('/job:localhost/replica:0/task:0/device:GPU:0',)\n",
            "I0701 05:14:11.761021 140298621388672 mirrored_strategy.py:350] Using MirroredStrategy with devices ('/job:localhost/replica:0/task:0/device:GPU:0',)\n",
            "INFO:tensorflow:Maybe overwriting train_steps: None\n",
            "I0701 05:14:11.764331 140298621388672 config_util.py:552] Maybe overwriting train_steps: None\n",
            "INFO:tensorflow:Maybe overwriting use_bfloat16: False\n",
            "I0701 05:14:11.764496 140298621388672 config_util.py:552] Maybe overwriting use_bfloat16: False\n",
            "WARNING:tensorflow:From /usr/local/lib/python3.7/dist-packages/object_detection/model_lib_v2.py:531: StrategyBase.experimental_distribute_datasets_from_function (from tensorflow.python.distribute.distribute_lib) is deprecated and will be removed in a future version.\n",
            "Instructions for updating:\n",
            "rename to distribute_datasets_from_function\n",
            "W0701 05:14:12.466742 140298621388672 deprecation.py:339] From /usr/local/lib/python3.7/dist-packages/object_detection/model_lib_v2.py:531: StrategyBase.experimental_distribute_datasets_from_function (from tensorflow.python.distribute.distribute_lib) is deprecated and will be removed in a future version.\n",
            "Instructions for updating:\n",
            "rename to distribute_datasets_from_function\n",
            "INFO:tensorflow:Reading unweighted datasets: ['/content/drive/MyDrive/Colab Notebooks/amenity_detection/oid_30_class_train.record-?????-of-00005']\n",
            "I0701 05:14:12.484845 140298621388672 dataset_builder.py:163] Reading unweighted datasets: ['/content/drive/MyDrive/Colab Notebooks/amenity_detection/oid_30_class_train.record-?????-of-00005']\n",
            "INFO:tensorflow:Reading record datasets for input file: ['/content/drive/MyDrive/Colab Notebooks/amenity_detection/oid_30_class_train.record-?????-of-00005']\n",
            "I0701 05:14:12.487199 140298621388672 dataset_builder.py:80] Reading record datasets for input file: ['/content/drive/MyDrive/Colab Notebooks/amenity_detection/oid_30_class_train.record-?????-of-00005']\n",
            "INFO:tensorflow:Number of filenames to read: 5\n",
            "I0701 05:14:12.487336 140298621388672 dataset_builder.py:81] Number of filenames to read: 5\n",
            "WARNING:tensorflow:num_readers has been reduced to 5 to match input file shards.\n",
            "W0701 05:14:12.487412 140298621388672 dataset_builder.py:88] num_readers has been reduced to 5 to match input file shards.\n",
            "WARNING:tensorflow:From /usr/local/lib/python3.7/dist-packages/object_detection/builders/dataset_builder.py:105: parallel_interleave (from tensorflow.python.data.experimental.ops.interleave_ops) is deprecated and will be removed in a future version.\n",
            "Instructions for updating:\n",
            "Use `tf.data.Dataset.interleave(map_func, cycle_length, block_length, num_parallel_calls=tf.data.AUTOTUNE)` instead. If sloppy execution is desired, use `tf.data.Options.experimental_deterministic`.\n",
            "W0701 05:14:12.492329 140298621388672 deprecation.py:339] From /usr/local/lib/python3.7/dist-packages/object_detection/builders/dataset_builder.py:105: parallel_interleave (from tensorflow.python.data.experimental.ops.interleave_ops) is deprecated and will be removed in a future version.\n",
            "Instructions for updating:\n",
            "Use `tf.data.Dataset.interleave(map_func, cycle_length, block_length, num_parallel_calls=tf.data.AUTOTUNE)` instead. If sloppy execution is desired, use `tf.data.Options.experimental_deterministic`.\n",
            "WARNING:tensorflow:From /usr/local/lib/python3.7/dist-packages/object_detection/builders/dataset_builder.py:237: DatasetV1.map_with_legacy_function (from tensorflow.python.data.ops.dataset_ops) is deprecated and will be removed in a future version.\n",
            "Instructions for updating:\n",
            "Use `tf.data.Dataset.map()\n",
            "W0701 05:14:12.519041 140298621388672 deprecation.py:339] From /usr/local/lib/python3.7/dist-packages/object_detection/builders/dataset_builder.py:237: DatasetV1.map_with_legacy_function (from tensorflow.python.data.ops.dataset_ops) is deprecated and will be removed in a future version.\n",
            "Instructions for updating:\n",
            "Use `tf.data.Dataset.map()\n",
            "WARNING:tensorflow:From /usr/local/lib/python3.7/dist-packages/tensorflow/python/util/dispatch.py:201: sparse_to_dense (from tensorflow.python.ops.sparse_ops) is deprecated and will be removed in a future version.\n",
            "Instructions for updating:\n",
            "Create a `tf.sparse.SparseTensor` and use `tf.sparse.to_dense` instead.\n",
            "W0701 05:14:18.755980 140298621388672 deprecation.py:339] From /usr/local/lib/python3.7/dist-packages/tensorflow/python/util/dispatch.py:201: sparse_to_dense (from tensorflow.python.ops.sparse_ops) is deprecated and will be removed in a future version.\n",
            "Instructions for updating:\n",
            "Create a `tf.sparse.SparseTensor` and use `tf.sparse.to_dense` instead.\n",
            "WARNING:tensorflow:From /usr/local/lib/python3.7/dist-packages/tensorflow/python/util/dispatch.py:201: sample_distorted_bounding_box (from tensorflow.python.ops.image_ops_impl) is deprecated and will be removed in a future version.\n",
            "Instructions for updating:\n",
            "`seed2` arg is deprecated.Use sample_distorted_bounding_box_v2 instead.\n",
            "W0701 05:14:21.626179 140298621388672 deprecation.py:339] From /usr/local/lib/python3.7/dist-packages/tensorflow/python/util/dispatch.py:201: sample_distorted_bounding_box (from tensorflow.python.ops.image_ops_impl) is deprecated and will be removed in a future version.\n",
            "Instructions for updating:\n",
            "`seed2` arg is deprecated.Use sample_distorted_bounding_box_v2 instead.\n",
            "WARNING:tensorflow:From /usr/local/lib/python3.7/dist-packages/object_detection/inputs.py:282: to_float (from tensorflow.python.ops.math_ops) is deprecated and will be removed in a future version.\n",
            "Instructions for updating:\n",
            "Use `tf.cast` instead.\n",
            "W0701 05:14:24.365532 140298621388672 deprecation.py:339] From /usr/local/lib/python3.7/dist-packages/object_detection/inputs.py:282: to_float (from tensorflow.python.ops.math_ops) is deprecated and will be removed in a future version.\n",
            "Instructions for updating:\n",
            "Use `tf.cast` instead.\n",
            "2021-07-01 05:14:26.605766: I tensorflow/compiler/mlir/mlir_graph_optimization_pass.cc:116] None of the MLIR optimization passes are enabled (registered 2)\n",
            "2021-07-01 05:14:26.612636: I tensorflow/core/platform/profile_utils/cpu_utils.cc:112] CPU Frequency: 2199995000 Hz\n",
            "/usr/local/lib/python3.7/dist-packages/tensorflow/python/keras/backend.py:434: UserWarning: `tf.keras.backend.set_learning_phase` is deprecated and will be removed after 2020-10-11. To update it, simply pass a True/False value to the `training` argument of the `__call__` method of your layer or model.\n",
            "  warnings.warn('`tf.keras.backend.set_learning_phase` is deprecated and '\n",
            "WARNING:tensorflow:From /usr/local/lib/python3.7/dist-packages/tensorflow/python/util/deprecation.py:605: calling map_fn_v2 (from tensorflow.python.ops.map_fn) with dtype is deprecated and will be removed in a future version.\n",
            "Instructions for updating:\n",
            "Use fn_output_signature instead\n",
            "W0701 05:15:10.468916 140295248791296 deprecation.py:537] From /usr/local/lib/python3.7/dist-packages/tensorflow/python/util/deprecation.py:605: calling map_fn_v2 (from tensorflow.python.ops.map_fn) with dtype is deprecated and will be removed in a future version.\n",
            "Instructions for updating:\n",
            "Use fn_output_signature instead\n",
            "2021-07-01 05:15:54.959780: I tensorflow/core/kernels/data/shuffle_dataset_op.cc:177] Filling up shuffle buffer (this may take a while): 1256 of 2048\n",
            "2021-07-01 05:16:01.465588: I tensorflow/core/kernels/data/shuffle_dataset_op.cc:230] Shuffle buffer filled.\n",
            "2021-07-01 05:16:04.072232: I tensorflow/stream_executor/platform/default/dso_loader.cc:49] Successfully opened dynamic library libcudnn.so.8\n",
            "2021-07-01 05:16:50.037666: I tensorflow/stream_executor/platform/default/dso_loader.cc:49] Successfully opened dynamic library libcublas.so.11\n",
            "2021-07-01 05:16:50.557013: I tensorflow/stream_executor/platform/default/dso_loader.cc:49] Successfully opened dynamic library libcublasLt.so.11\n",
            "INFO:tensorflow:Step 14100 per-step time 1.311s loss=7.249\n",
            "I0701 05:19:07.899285 140298621388672 model_lib_v2.py:659] Step 14100 per-step time 1.311s loss=7.249\n",
            "INFO:tensorflow:Step 14200 per-step time 1.290s loss=7.102\n",
            "I0701 05:21:17.794881 140298621388672 model_lib_v2.py:659] Step 14200 per-step time 1.290s loss=7.102\n",
            "INFO:tensorflow:Step 14300 per-step time 1.316s loss=6.121\n",
            "I0701 05:23:27.782211 140298621388672 model_lib_v2.py:659] Step 14300 per-step time 1.316s loss=6.121\n",
            "INFO:tensorflow:Step 14400 per-step time 1.309s loss=8.115\n",
            "I0701 05:25:37.904305 140298621388672 model_lib_v2.py:659] Step 14400 per-step time 1.309s loss=8.115\n",
            "INFO:tensorflow:Step 14500 per-step time 1.299s loss=5.240\n",
            "I0701 05:27:47.985468 140298621388672 model_lib_v2.py:659] Step 14500 per-step time 1.299s loss=5.240\n",
            "INFO:tensorflow:Step 14600 per-step time 1.302s loss=6.979\n",
            "I0701 05:29:57.725371 140298621388672 model_lib_v2.py:659] Step 14600 per-step time 1.302s loss=6.979\n",
            "INFO:tensorflow:Step 14700 per-step time 1.318s loss=8.056\n",
            "I0701 05:32:07.558478 140298621388672 model_lib_v2.py:659] Step 14700 per-step time 1.318s loss=8.056\n",
            "INFO:tensorflow:Step 14800 per-step time 1.306s loss=9.212\n",
            "I0701 05:34:17.886052 140298621388672 model_lib_v2.py:659] Step 14800 per-step time 1.306s loss=9.212\n",
            "INFO:tensorflow:Step 14900 per-step time 1.313s loss=5.374\n",
            "I0701 05:36:28.116039 140298621388672 model_lib_v2.py:659] Step 14900 per-step time 1.313s loss=5.374\n",
            "INFO:tensorflow:Step 15000 per-step time 1.286s loss=7.963\n",
            "I0701 05:38:38.127761 140298621388672 model_lib_v2.py:659] Step 15000 per-step time 1.286s loss=7.963\n",
            "INFO:tensorflow:Reduce to /job:localhost/replica:0/task:0/device:CPU:0 then broadcast to ('/job:localhost/replica:0/task:0/device:CPU:0',).\n",
            "I0701 05:38:38.381139 140298621388672 cross_device_ops.py:565] Reduce to /job:localhost/replica:0/task:0/device:CPU:0 then broadcast to ('/job:localhost/replica:0/task:0/device:CPU:0',).\n",
            "INFO:tensorflow:Reduce to /job:localhost/replica:0/task:0/device:CPU:0 then broadcast to ('/job:localhost/replica:0/task:0/device:CPU:0',).\n",
            "I0701 05:38:38.382263 140298621388672 cross_device_ops.py:565] Reduce to /job:localhost/replica:0/task:0/device:CPU:0 then broadcast to ('/job:localhost/replica:0/task:0/device:CPU:0',).\n",
            "INFO:tensorflow:Reduce to /job:localhost/replica:0/task:0/device:CPU:0 then broadcast to ('/job:localhost/replica:0/task:0/device:CPU:0',).\n",
            "I0701 05:38:38.385013 140298621388672 cross_device_ops.py:565] Reduce to /job:localhost/replica:0/task:0/device:CPU:0 then broadcast to ('/job:localhost/replica:0/task:0/device:CPU:0',).\n",
            "INFO:tensorflow:Reduce to /job:localhost/replica:0/task:0/device:CPU:0 then broadcast to ('/job:localhost/replica:0/task:0/device:CPU:0',).\n",
            "I0701 05:38:38.385799 140298621388672 cross_device_ops.py:565] Reduce to /job:localhost/replica:0/task:0/device:CPU:0 then broadcast to ('/job:localhost/replica:0/task:0/device:CPU:0',).\n",
            "INFO:tensorflow:Reduce to /job:localhost/replica:0/task:0/device:CPU:0 then broadcast to ('/job:localhost/replica:0/task:0/device:CPU:0',).\n",
            "I0701 05:38:38.388452 140298621388672 cross_device_ops.py:565] Reduce to /job:localhost/replica:0/task:0/device:CPU:0 then broadcast to ('/job:localhost/replica:0/task:0/device:CPU:0',).\n",
            "INFO:tensorflow:Reduce to /job:localhost/replica:0/task:0/device:CPU:0 then broadcast to ('/job:localhost/replica:0/task:0/device:CPU:0',).\n",
            "I0701 05:38:38.389228 140298621388672 cross_device_ops.py:565] Reduce to /job:localhost/replica:0/task:0/device:CPU:0 then broadcast to ('/job:localhost/replica:0/task:0/device:CPU:0',).\n",
            "INFO:tensorflow:Reduce to /job:localhost/replica:0/task:0/device:CPU:0 then broadcast to ('/job:localhost/replica:0/task:0/device:CPU:0',).\n",
            "I0701 05:38:38.391914 140298621388672 cross_device_ops.py:565] Reduce to /job:localhost/replica:0/task:0/device:CPU:0 then broadcast to ('/job:localhost/replica:0/task:0/device:CPU:0',).\n",
            "INFO:tensorflow:Reduce to /job:localhost/replica:0/task:0/device:CPU:0 then broadcast to ('/job:localhost/replica:0/task:0/device:CPU:0',).\n",
            "I0701 05:38:38.392701 140298621388672 cross_device_ops.py:565] Reduce to /job:localhost/replica:0/task:0/device:CPU:0 then broadcast to ('/job:localhost/replica:0/task:0/device:CPU:0',).\n",
            "INFO:tensorflow:Reduce to /job:localhost/replica:0/task:0/device:CPU:0 then broadcast to ('/job:localhost/replica:0/task:0/device:CPU:0',).\n",
            "I0701 05:38:38.394618 140298621388672 cross_device_ops.py:565] Reduce to /job:localhost/replica:0/task:0/device:CPU:0 then broadcast to ('/job:localhost/replica:0/task:0/device:CPU:0',).\n",
            "INFO:tensorflow:Reduce to /job:localhost/replica:0/task:0/device:CPU:0 then broadcast to ('/job:localhost/replica:0/task:0/device:CPU:0',).\n",
            "I0701 05:38:38.395397 140298621388672 cross_device_ops.py:565] Reduce to /job:localhost/replica:0/task:0/device:CPU:0 then broadcast to ('/job:localhost/replica:0/task:0/device:CPU:0',).\n",
            "INFO:tensorflow:Step 15100 per-step time 1.326s loss=5.561\n",
            "I0701 05:41:34.558172 140298621388672 model_lib_v2.py:659] Step 15100 per-step time 1.326s loss=5.561\n",
            "INFO:tensorflow:Step 15200 per-step time 1.317s loss=4.706\n",
            "I0701 05:43:45.697691 140298621388672 model_lib_v2.py:659] Step 15200 per-step time 1.317s loss=4.706\n",
            "INFO:tensorflow:Step 15300 per-step time 1.297s loss=4.959\n",
            "I0701 05:45:56.386163 140298621388672 model_lib_v2.py:659] Step 15300 per-step time 1.297s loss=4.959\n",
            "INFO:tensorflow:Step 15400 per-step time 1.340s loss=5.488\n",
            "I0701 05:48:06.903105 140298621388672 model_lib_v2.py:659] Step 15400 per-step time 1.340s loss=5.488\n",
            "INFO:tensorflow:Step 15500 per-step time 1.273s loss=5.774\n",
            "I0701 05:50:18.115408 140298621388672 model_lib_v2.py:659] Step 15500 per-step time 1.273s loss=5.774\n",
            "INFO:tensorflow:Step 15600 per-step time 1.360s loss=6.305\n",
            "I0701 05:52:29.238046 140298621388672 model_lib_v2.py:659] Step 15600 per-step time 1.360s loss=6.305\n",
            "INFO:tensorflow:Step 15700 per-step time 1.307s loss=11.833\n",
            "I0701 05:54:39.471824 140298621388672 model_lib_v2.py:659] Step 15700 per-step time 1.307s loss=11.833\n",
            "INFO:tensorflow:Step 15800 per-step time 1.305s loss=7.093\n",
            "I0701 05:56:50.654637 140298621388672 model_lib_v2.py:659] Step 15800 per-step time 1.305s loss=7.093\n",
            "INFO:tensorflow:Step 15900 per-step time 1.271s loss=6.329\n",
            "I0701 05:59:00.792921 140298621388672 model_lib_v2.py:659] Step 15900 per-step time 1.271s loss=6.329\n",
            "INFO:tensorflow:Step 16000 per-step time 1.314s loss=6.474\n",
            "I0701 06:01:11.097158 140298621388672 model_lib_v2.py:659] Step 16000 per-step time 1.314s loss=6.474\n",
            "INFO:tensorflow:Step 16100 per-step time 1.452s loss=9.187\n",
            "I0701 06:04:20.397119 140298621388672 model_lib_v2.py:659] Step 16100 per-step time 1.452s loss=9.187\n",
            "INFO:tensorflow:Step 16200 per-step time 1.595s loss=8.778\n",
            "I0701 06:06:54.078471 140298621388672 model_lib_v2.py:659] Step 16200 per-step time 1.595s loss=8.778\n",
            "INFO:tensorflow:Step 16300 per-step time 1.688s loss=9.119\n",
            "I0701 06:09:27.038114 140298621388672 model_lib_v2.py:659] Step 16300 per-step time 1.688s loss=9.119\n",
            "INFO:tensorflow:Step 16400 per-step time 1.559s loss=5.887\n",
            "I0701 06:11:54.757457 140298621388672 model_lib_v2.py:659] Step 16400 per-step time 1.559s loss=5.887\n",
            "INFO:tensorflow:Step 16500 per-step time 1.466s loss=6.868\n",
            "I0701 06:14:13.895937 140298621388672 model_lib_v2.py:659] Step 16500 per-step time 1.466s loss=6.868\n",
            "INFO:tensorflow:Step 16600 per-step time 1.317s loss=7.355\n",
            "I0701 06:16:31.443202 140298621388672 model_lib_v2.py:659] Step 16600 per-step time 1.317s loss=7.355\n",
            "INFO:tensorflow:Step 16700 per-step time 1.311s loss=7.676\n",
            "I0701 06:18:44.809296 140298621388672 model_lib_v2.py:659] Step 16700 per-step time 1.311s loss=7.676\n",
            "INFO:tensorflow:Step 16800 per-step time 1.306s loss=7.497\n",
            "I0701 06:20:55.179290 140298621388672 model_lib_v2.py:659] Step 16800 per-step time 1.306s loss=7.497\n",
            "INFO:tensorflow:Step 16900 per-step time 1.275s loss=7.534\n",
            "I0701 06:23:05.723535 140298621388672 model_lib_v2.py:659] Step 16900 per-step time 1.275s loss=7.534\n",
            "INFO:tensorflow:Step 17000 per-step time 1.315s loss=8.126\n",
            "I0701 06:25:16.143233 140298621388672 model_lib_v2.py:659] Step 17000 per-step time 1.315s loss=8.126\n",
            "INFO:tensorflow:Step 17100 per-step time 1.468s loss=5.417\n",
            "I0701 06:28:27.669237 140298621388672 model_lib_v2.py:659] Step 17100 per-step time 1.468s loss=5.417\n",
            "INFO:tensorflow:Step 17200 per-step time 1.551s loss=8.150\n",
            "I0701 06:31:00.767683 140298621388672 model_lib_v2.py:659] Step 17200 per-step time 1.551s loss=8.150\n",
            "INFO:tensorflow:Step 17300 per-step time 1.409s loss=9.419\n",
            "I0701 06:33:35.654229 140298621388672 model_lib_v2.py:659] Step 17300 per-step time 1.409s loss=9.419\n",
            "INFO:tensorflow:Step 17400 per-step time 1.444s loss=10.339\n",
            "I0701 06:36:07.041015 140298621388672 model_lib_v2.py:659] Step 17400 per-step time 1.444s loss=10.339\n",
            "INFO:tensorflow:Step 17500 per-step time 1.370s loss=8.533\n",
            "I0701 06:38:34.767434 140298621388672 model_lib_v2.py:659] Step 17500 per-step time 1.370s loss=8.533\n",
            "INFO:tensorflow:Step 17600 per-step time 1.352s loss=7.267\n",
            "I0701 06:40:55.730885 140298621388672 model_lib_v2.py:659] Step 17600 per-step time 1.352s loss=7.267\n",
            "INFO:tensorflow:Step 17700 per-step time 1.310s loss=4.933\n",
            "I0701 06:43:10.542289 140298621388672 model_lib_v2.py:659] Step 17700 per-step time 1.310s loss=4.933\n",
            "INFO:tensorflow:Step 17800 per-step time 1.337s loss=6.878\n",
            "I0701 06:45:22.642369 140298621388672 model_lib_v2.py:659] Step 17800 per-step time 1.337s loss=6.878\n",
            "INFO:tensorflow:Step 17900 per-step time 1.305s loss=6.155\n",
            "I0701 06:47:33.448338 140298621388672 model_lib_v2.py:659] Step 17900 per-step time 1.305s loss=6.155\n",
            "INFO:tensorflow:Step 18000 per-step time 1.311s loss=6.371\n",
            "I0701 06:49:43.939941 140298621388672 model_lib_v2.py:659] Step 18000 per-step time 1.311s loss=6.371\n",
            "INFO:tensorflow:Step 18100 per-step time 1.615s loss=5.065\n",
            "I0701 06:52:59.042794 140298621388672 model_lib_v2.py:659] Step 18100 per-step time 1.615s loss=5.065\n",
            "INFO:tensorflow:Step 18200 per-step time 1.545s loss=5.747\n",
            "I0701 06:55:38.532255 140298621388672 model_lib_v2.py:659] Step 18200 per-step time 1.545s loss=5.747\n",
            "INFO:tensorflow:Step 18300 per-step time 1.486s loss=6.096\n",
            "I0701 06:58:16.073193 140298621388672 model_lib_v2.py:659] Step 18300 per-step time 1.486s loss=6.096\n",
            "INFO:tensorflow:Step 18400 per-step time 1.546s loss=7.124\n",
            "I0701 07:00:50.137473 140298621388672 model_lib_v2.py:659] Step 18400 per-step time 1.546s loss=7.124\n",
            "INFO:tensorflow:Step 18500 per-step time 1.463s loss=6.761\n",
            "I0701 07:03:20.181773 140298621388672 model_lib_v2.py:659] Step 18500 per-step time 1.463s loss=6.761\n",
            "INFO:tensorflow:Step 18600 per-step time 1.352s loss=5.722\n",
            "I0701 07:05:43.837696 140298621388672 model_lib_v2.py:659] Step 18600 per-step time 1.352s loss=5.722\n",
            "INFO:tensorflow:Step 18700 per-step time 1.357s loss=7.640\n",
            "I0701 07:07:59.643620 140298621388672 model_lib_v2.py:659] Step 18700 per-step time 1.357s loss=7.640\n",
            "INFO:tensorflow:Step 18800 per-step time 1.299s loss=5.328\n",
            "I0701 07:10:11.647658 140298621388672 model_lib_v2.py:659] Step 18800 per-step time 1.299s loss=5.328\n",
            "INFO:tensorflow:Step 18900 per-step time 1.311s loss=7.011\n",
            "I0701 07:12:22.234870 140298621388672 model_lib_v2.py:659] Step 18900 per-step time 1.311s loss=7.011\n",
            "INFO:tensorflow:Step 19000 per-step time 1.386s loss=6.116\n",
            "I0701 07:14:32.274039 140298621388672 model_lib_v2.py:659] Step 19000 per-step time 1.386s loss=6.116\n",
            "INFO:tensorflow:Step 19100 per-step time 1.500s loss=6.364\n",
            "I0701 07:17:51.932227 140298621388672 model_lib_v2.py:659] Step 19100 per-step time 1.500s loss=6.364\n",
            "INFO:tensorflow:Step 19200 per-step time 1.371s loss=8.641\n",
            "I0701 07:20:30.858189 140298621388672 model_lib_v2.py:659] Step 19200 per-step time 1.371s loss=8.641\n",
            "INFO:tensorflow:Step 19300 per-step time 1.559s loss=6.360\n",
            "I0701 07:23:10.214057 140298621388672 model_lib_v2.py:659] Step 19300 per-step time 1.559s loss=6.360\n",
            "INFO:tensorflow:Step 19400 per-step time 1.500s loss=6.663\n",
            "I0701 07:25:40.874512 140298621388672 model_lib_v2.py:659] Step 19400 per-step time 1.500s loss=6.663\n",
            "INFO:tensorflow:Step 19500 per-step time 1.365s loss=4.971\n",
            "I0701 07:28:09.547560 140298621388672 model_lib_v2.py:659] Step 19500 per-step time 1.365s loss=4.971\n",
            "INFO:tensorflow:Step 19600 per-step time 1.375s loss=6.162\n",
            "I0701 07:30:32.848297 140298621388672 model_lib_v2.py:659] Step 19600 per-step time 1.375s loss=6.162\n",
            "INFO:tensorflow:Step 19700 per-step time 1.398s loss=6.409\n",
            "I0701 07:32:48.846309 140298621388672 model_lib_v2.py:659] Step 19700 per-step time 1.398s loss=6.409\n",
            "INFO:tensorflow:Step 19800 per-step time 1.322s loss=6.948\n",
            "I0701 07:35:00.125799 140298621388672 model_lib_v2.py:659] Step 19800 per-step time 1.322s loss=6.948\n",
            "INFO:tensorflow:Step 19900 per-step time 1.289s loss=6.028\n",
            "I0701 07:37:10.348383 140298621388672 model_lib_v2.py:659] Step 19900 per-step time 1.289s loss=6.028\n",
            "INFO:tensorflow:Step 20000 per-step time 1.276s loss=5.239\n",
            "I0701 07:39:21.540382 140298621388672 model_lib_v2.py:659] Step 20000 per-step time 1.276s loss=5.239\n",
            "INFO:tensorflow:Step 20100 per-step time 1.674s loss=6.257\n",
            "I0701 07:42:46.183523 140298621388672 model_lib_v2.py:659] Step 20100 per-step time 1.674s loss=6.257\n",
            "INFO:tensorflow:Step 20200 per-step time 1.368s loss=5.815\n",
            "I0701 07:45:27.785973 140298621388672 model_lib_v2.py:659] Step 20200 per-step time 1.368s loss=5.815\n",
            "INFO:tensorflow:Step 20300 per-step time 1.541s loss=6.192\n",
            "I0701 07:48:08.311562 140298621388672 model_lib_v2.py:659] Step 20300 per-step time 1.541s loss=6.192\n",
            "INFO:tensorflow:Step 20400 per-step time 1.343s loss=6.951\n",
            "I0701 07:50:46.098164 140298621388672 model_lib_v2.py:659] Step 20400 per-step time 1.343s loss=6.951\n",
            "INFO:tensorflow:Step 20500 per-step time 1.524s loss=5.848\n",
            "I0701 07:53:17.968918 140298621388672 model_lib_v2.py:659] Step 20500 per-step time 1.524s loss=5.848\n",
            "INFO:tensorflow:Step 20600 per-step time 1.471s loss=6.613\n",
            "I0701 07:55:41.960920 140298621388672 model_lib_v2.py:659] Step 20600 per-step time 1.471s loss=6.613\n",
            "INFO:tensorflow:Step 20700 per-step time 1.298s loss=6.156\n",
            "I0701 07:57:59.500570 140298621388672 model_lib_v2.py:659] Step 20700 per-step time 1.298s loss=6.156\n",
            "INFO:tensorflow:Step 20800 per-step time 1.284s loss=9.980\n",
            "I0701 08:00:13.382550 140298621388672 model_lib_v2.py:659] Step 20800 per-step time 1.284s loss=9.980\n",
            "INFO:tensorflow:Step 20900 per-step time 1.415s loss=5.648\n",
            "I0701 08:02:24.188138 140298621388672 model_lib_v2.py:659] Step 20900 per-step time 1.415s loss=5.648\n",
            "INFO:tensorflow:Step 21000 per-step time 1.286s loss=7.787\n",
            "I0701 08:04:34.239676 140298621388672 model_lib_v2.py:659] Step 21000 per-step time 1.286s loss=7.787\n",
            "INFO:tensorflow:Step 21100 per-step time 1.455s loss=8.093\n",
            "I0701 08:07:53.296091 140298621388672 model_lib_v2.py:659] Step 21100 per-step time 1.455s loss=8.093\n",
            "INFO:tensorflow:Step 21200 per-step time 1.511s loss=6.897\n",
            "I0701 08:10:30.710425 140298621388672 model_lib_v2.py:659] Step 21200 per-step time 1.511s loss=6.897\n",
            "INFO:tensorflow:Step 21300 per-step time 1.637s loss=6.833\n",
            "I0701 08:13:08.842278 140298621388672 model_lib_v2.py:659] Step 21300 per-step time 1.637s loss=6.833\n",
            "INFO:tensorflow:Step 21400 per-step time 1.665s loss=6.669\n",
            "I0701 08:15:45.105361 140298621388672 model_lib_v2.py:659] Step 21400 per-step time 1.665s loss=6.669\n"
          ],
          "name": "stdout"
        }
      ]
    },
    {
      "cell_type": "code",
      "metadata": {
        "id": "o4YVt7FYUpI2"
      },
      "source": [
        ""
      ],
      "execution_count": null,
      "outputs": []
    },
    {
      "cell_type": "code",
      "metadata": {
        "id": "bSMbLMgKLNdc"
      },
      "source": [
        ""
      ],
      "execution_count": null,
      "outputs": []
    },
    {
      "cell_type": "code",
      "metadata": {
        "id": "QgYPMwy1LOvR"
      },
      "source": [
        ""
      ],
      "execution_count": null,
      "outputs": []
    }
  ]
}